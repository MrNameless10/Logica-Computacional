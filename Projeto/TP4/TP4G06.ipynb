{
  "nbformat": 4,
  "nbformat_minor": 0,
  "metadata": {
    "colab": {
      "name": "TP4G06.ipynb",
      "provenance": [],
      "collapsed_sections": []
    },
    "kernelspec": {
      "name": "python3",
      "display_name": "Python 3"
    },
    "language_info": {
      "name": "python"
    }
  },
  "cells": [
    {
      "cell_type": "markdown",
      "source": [
        "# **TP4 - Grupo 06**\n",
        "Grupo 06\n",
        "- Tomás Vaz de Carvalho Campinho A91668\n",
        "- Miguel Ângelo Alves de Freitas A91635"
      ],
      "metadata": {
        "id": "K_1q-brJhK6r"
      }
    },
    {
      "cell_type": "code",
      "source": [
        "!pip install z3-solver\n",
        "\n",
        "from z3 import *\n",
        "from random import randint"
      ],
      "metadata": {
        "id": "H7YD9D1QhlP2"
      },
      "execution_count": null,
      "outputs": []
    },
    {
      "cell_type": "markdown",
      "source": [
        "# Considere o seguinte programa, em Python anotado, para multiplicação de dois inteiros de precisão limitada a 16 bits.  \n",
        "\n",
        "```python\n",
        "           assume m >= 0 and n >= 0 and r == 0 and x == m and y == n \n",
        "        0: while y > 0:\n",
        "        1:    if y & 1 == 1: \n",
        "                    y , r  = y-1 , r+x\n",
        "        2:    x , y = x<<1  ,  y>>1\n",
        "        3: assert r == m * n\n",
        "        \n",
        "```"
      ],
      "metadata": {
        "id": "nUhqhKCXhK1p"
      }
    },
    {
      "cell_type": "markdown",
      "source": [
        "\n",
        "\n",
        "## 1. Prove por indução a terminação deste programa"
      ],
      "metadata": {
        "id": "_V_fQw41hpuF"
      }
    },
    {
      "cell_type": "code",
      "source": [
        "def declare(i):\n",
        "    state = {}\n",
        "    state['pc'] = Int('pc'+str(i))\n",
        "    state['m'] = BitVec('m'+str(i),16)\n",
        "    state['n'] = BitVec('n'+str(i),16)\n",
        "    state['r'] = BitVec('r'+str(i),16)\n",
        "    state['x'] = BitVec('x'+str(i),16)\n",
        "    state['y'] = BitVec('y'+str(i),16)\n",
        "    return state"
      ],
      "metadata": {
        "id": "A6KzVexCht6N"
      },
      "execution_count": null,
      "outputs": []
    },
    {
      "cell_type": "markdown",
      "source": [
        "**Estado Inicial**\n",
        "\n",
        "$m >= 0 \\quad \\land\\ \\quad n >= 0 \\quad \\land\\ \\quad r == 0 \\quad \\land\\ \\quad x == m \\quad \\land\\ \\quad y == n$"
      ],
      "metadata": {
        "id": "FrFqrxaQh_T0"
      }
    },
    {
      "cell_type": "code",
      "source": [
        "def init(state):\n",
        "        return And(state['m'] == randint(0,10),\n",
        "                   state['n'] == randint(0,10),\n",
        "                   state['r'] == 0, \n",
        "                   state['x'] == state['m'],\n",
        "                   state['y'] == state['n'], \n",
        "                   state['pc'] == 0)"
      ],
      "metadata": {
        "id": "n7FL2qhWhyNV"
      },
      "execution_count": null,
      "outputs": []
    },
    {
      "cell_type": "markdown",
      "source": [
        "**Transições do FOTS**\n",
        "\n",
        "$(pc = 0 \\quad \\land\\ \\quad pc' = 1 \\quad \\land\\ \\quad y <= 0 \\quad \\land\\ \\quad m' = m \\quad \\land\\ \\quad n' = n \\quad \\land\\ \\quad r' = r \\quad \\land\\ \\quad x' = x \\quad \\land\\ \\quad y' = y)$\n",
        "\n",
        "$\\lor$\n",
        "\n",
        "$(pc = 0 \\quad \\land\\ \\quad pc' = 0 \\quad \\land\\ \\quad y > 0 \\quad \\land\\ \\quad y \\& 1 = 1 \\quad \\land\\ \\quad m' = m \\quad \\land\\ \\quad n' = n \\quad \\land\\ \\quad r' = r + x \\quad \\land\\ \\quad x' = x << 1 \\quad \\land\\ \\quad y' = (y-1) >> 1)$\n",
        "\n",
        "$\\lor$\n",
        "\n",
        "$(pc = 0 \\quad \\land\\ \\quad pc' = 0 \\quad \\land\\ \\quad y > 0 \\quad \\land\\ \\quad y \\& 1 \\neq 1 \\quad \\land\\ \\quad m' = m \\quad \\land\\ \\quad n' = n \\quad \\land\\ \\quad r' = r \\quad \\land\\ \\quad x' = x << 1 \\quad \\land\\ \\quad y' = y >> 1)$\n",
        "\n",
        "$\\lor$\n",
        "\n",
        "$(pc = 1 \\quad \\land\\ \\quad pc' = 1 \\quad \\land\\ \\quad m' = m \\quad \\land\\ \\quad n' = n \\quad \\land\\ \\quad r' = r \\quad \\land\\ \\quad x' = x \\quad \\land\\ \\quad y' = y)$"
      ],
      "metadata": {
        "id": "36tI_fGTh4Tl"
      }
    },
    {
      "cell_type": "code",
      "execution_count": null,
      "metadata": {
        "id": "8fKz73Z8hKPi"
      },
      "outputs": [],
      "source": [
        "def trans(curr,prox):   \n",
        "    t0 = And(prox['m'] == curr['m'], prox['n'] == curr['n'], prox['r'] == curr['r'], prox['x'] == curr['x'],\n",
        "              prox['y'] == curr['y'])\n",
        "    \n",
        "\n",
        "    t1 = And(curr['pc'] == 0, prox['pc'] == 1, curr['y'] <= 0, t0) #não entra no ciclo\n",
        "    \n",
        "    t2 = And(curr['pc'] == 0, prox['pc'] == 0, curr['y'] > 0, curr['y']&1 == 1, #entra no if\n",
        "             prox['m'] == curr['m'], \n",
        "             prox['n'] == curr['n'],\n",
        "             prox['r'] == curr['r'] + curr['x'], \n",
        "             prox['x'] == (curr['x'] << 1), \n",
        "             prox['y'] == ((curr['y']-1) >> 1))\n",
        "    \n",
        "    t3 = And(curr['pc'] == 0, prox['pc'] == 0, curr['y'] > 0, curr['y']&1 != 1, #não entra no if\n",
        "             prox['m'] == curr['m'], \n",
        "             prox['n'] == curr['n'],\n",
        "             prox['r'] == curr['r'], \n",
        "             prox['x'] == (curr['x'] << 1), \n",
        "             prox['y'] == (curr['y'] >> 1))\n",
        "    \n",
        "    t4 = And(curr['pc'] == 1, prox['pc'] == 1, t0)\n",
        "\n",
        "    return Or(t1,t2,t3,t4)"
      ]
    },
    {
      "cell_type": "markdown",
      "source": [
        "Gerar traco"
      ],
      "metadata": {
        "id": "-526rnLth3BU"
      }
    },
    {
      "cell_type": "code",
      "source": [
        "def gera_traco(declare, init, trans, k):\n",
        "    s = Solver()\n",
        "    state = [declare(i) for i in range(k)]\n",
        "    s.add(init(state[0]))\n",
        "    \n",
        "    for i in range(k-1):\n",
        "        s.add(trans(state[i], state[i+1]))\n",
        "        \n",
        "    if s.check() == sat:\n",
        "        m = s.model()\n",
        "        for i in range(k):\n",
        "            print(\"\\n\",i)\n",
        "            for x in state[i]:\n",
        "                print(x,\"=\", m[state[i][x]])\n",
        "                \n",
        "gera_traco(declare, init, trans, 5)"
      ],
      "metadata": {
        "id": "qDbzCTkfh1Jg"
      },
      "execution_count": null,
      "outputs": []
    },
    {
      "cell_type": "markdown",
      "source": [
        "**Verificação da terminação do programa**\n",
        "\n",
        "$pc == 1$"
      ],
      "metadata": {
        "id": "3op2_fpfj1zm"
      }
    },
    {
      "cell_type": "code",
      "source": [
        "def cond_term(state):\n",
        "    return (state['pc'] == 1)\n",
        "\n",
        "def bmc_eventually(declare,init,trans,prop,bound):\n",
        "    for k in range(1,bound+1):\n",
        "        s = Solver()\n",
        "        state =[declare(i) for i in range(k)]\n",
        "        s.add(init(state[0]))\n",
        "\n",
        "        for i in range(k-1):\n",
        "            s.add(trans(state[i],state[i+1]))\n",
        "        s.add(prop(state[k-1]))\n",
        "\n",
        "        if s.check()==sat:\n",
        "            m = s.model()\n",
        "            for i in range(k):\n",
        "                print(\"\\n\",i)\n",
        "                for x in state[i]:\n",
        "                    print(x,\"=\", m[state[i][x]])\n",
        "            return\n",
        "    print(\"Não foi possivel verificar a propriedade com \"+ str(bound) + ' tracos')\n",
        "\n",
        "bmc_eventually(declare, init, trans, cond_term, 16)"
      ],
      "metadata": {
        "colab": {
          "base_uri": "https://localhost:8080/"
        },
        "id": "Ld6mn10Slwdh",
        "outputId": "6b590e12-9616-4618-dfe9-55496ba7b58e"
      },
      "execution_count": null,
      "outputs": [
        {
          "output_type": "stream",
          "name": "stdout",
          "text": [
            "\n",
            " 0\n",
            "pc = 0\n",
            "m = 7\n",
            "n = 6\n",
            "r = 0\n",
            "x = 7\n",
            "y = 6\n",
            "\n",
            " 1\n",
            "pc = 0\n",
            "m = 7\n",
            "n = 6\n",
            "r = 0\n",
            "x = 14\n",
            "y = 3\n",
            "\n",
            " 2\n",
            "pc = 0\n",
            "m = 7\n",
            "n = 6\n",
            "r = 14\n",
            "x = 28\n",
            "y = 1\n",
            "\n",
            " 3\n",
            "pc = 0\n",
            "m = 7\n",
            "n = 6\n",
            "r = 42\n",
            "x = 56\n",
            "y = 0\n",
            "\n",
            " 4\n",
            "pc = 1\n",
            "m = 7\n",
            "n = 6\n",
            "r = 42\n",
            "x = 56\n",
            "y = 0\n"
          ]
        }
      ]
    },
    {
      "cell_type": "markdown",
      "source": [
        "\n",
        "## 2. Pretende-se verificar a correção total deste  programa usando a metodologia dos invariantes e a metodologia do “single assignment unfolding”."
      ],
      "metadata": {
        "id": "_mu8TjIbkPUu"
      }
    },
    {
      "cell_type": "markdown",
      "source": [
        "### a. Codifique usando a LPA (linguagem de programas anotadas) a forma recursiva deste programa."
      ],
      "metadata": {
        "id": "jO_1Hnjbkfm8"
      }
    },
    {
      "cell_type": "markdown",
      "source": [
        "$$\n",
        "W \\equiv \\{\\mathsf{assume}\\ (y > 0);\\ S;\\ W\\}\\ \\|\\ \\{\\mathsf{assume}\\ (y \\le 0)\\}\\\\\n",
        "S ≡ \\{\\mathsf{assume}\\ (y\\ \\&\\ 1 = 1);\\ C;\\ Z\\}\\ \\|\\ \\{\\mathsf{assume}\\ (y\\ \\&\\ 1 \\ne 1);\\ Z\\}\\\\\n",
        "C ≡ \\{\\mathit{y} \\gets \\mathit{y - 1};\\ \\mathit{r} \\gets \\mathit{r + x}\\}\\\\\n",
        "Z ≡ \\{\\mathit{y} \\gets \\mathit{y \\gg 1};\\ \\mathit{x} \\gets \\mathit{x \\ll 1}\\}\n",
        "$$"
      ],
      "metadata": {
        "id": "BJayPNsVaO7v"
      }
    },
    {
      "cell_type": "markdown",
      "source": [
        "```python\n",
        "assume m >= 0 and n >= 0 and r == 0 and x == m and y == n;\n",
        "assert inv;\n",
        "#Inicio\n",
        "havoc x; havoc y; havoc r;\n",
        "\n",
        "#Ciclo\n",
        "((assume (y > 0) and inv;\n",
        "    ((assume (y & 1 == 1);\n",
        "        y = y-1;\n",
        "        r = r+x;\n",
        "    ) || (\n",
        "        assume (not (y & 1 == 1));\n",
        "        skip;\n",
        "    ))\n",
        "    x = x<<1;\n",
        "    y = y>>1;\n",
        "    assert inv;\n",
        "    assume False;\n",
        ") || (\n",
        "    assume (not (y > 0)) and inv;\n",
        "));\n",
        "\n",
        "#Fim\n",
        "assert r == m * n;\n",
        "```"
      ],
      "metadata": {
        "id": "bsVHOMzCaTbE"
      }
    },
    {
      "cell_type": "markdown",
      "source": [
        "### b. Proponha o invariante mais fraco que assegure a correção, codifique-o em SMT e prove a correção."
      ],
      "metadata": {
        "id": "q_4OQfg3kkD0"
      }
    },
    {
      "cell_type": "markdown",
      "source": [
        "### *Havoc*\n",
        "\n",
        "O comando `havoc x` pode ser descrito informalmente como uma atribuição a `x` de um valor arbitrário.  Em termos de denotação lógica usando a denotação WPC teremos \n",
        "\n",
        "$$\n",
        "[{\\sf havoc}\\; x \\; ; C] = \\forall x. \\,[C]\n",
        "$$\n",
        "\n",
        "Na metodologia *havoc*, o ciclo (${\\sf while} \\; b \\;{\\sf do }\\{\\theta\\} \\;C$), com anotação de invariante $\\theta$ é transformado num fluxo não iterativo da seguinte forma\n",
        "\n",
        "$$\n",
        "{{\\sf assert}\\; \\theta\\; ; \\sf havoc }\\;\\vec{x} \\; ; (\\,({\\sf assume }\\; b \\wedge \\theta \\; ; \\; C \\; ; {\\sf assert}\\;\\theta \\; ; {\\sf assume}\\; \\mathit{False}) \\: || \\:\n",
        "{\\sf assume}\\; \\neg b \\wedge \\theta \\,)\n",
        "$$\n",
        "\n",
        "onde $\\vec{x}$ representa as *variáveis atribuídas em $C$*.\n",
        "\n",
        "Observe como a denotação do triplo de Hoare $\\{\\phi\\} {\\sf while} \\; b \\;{\\sf do}\\{\\theta\\}\\,C \\,\\{\\psi\\}$,  traduzido desta forma,\n",
        "permite garantir as propriedades de \"inicialização\", \"preservação\" e \"utilidade\" do invariante $\\theta$\n",
        "\n",
        "$$\n",
        "\\begin{array}{l}\n",
        "[\\,{\\sf assume}\\;\\phi\\; ;{{\\sf assert}\\; \\theta\\; ; \\sf havoc }\\;\\vec{x} \\; ; (\\,({\\sf assume }\\; b \\wedge \\theta \\; ; \\; C \\; ; {\\sf assert}\\;\\theta \\; ; {\\sf assume}\\; \\mathit{False}) \\: || \\:\n",
        "{\\sf assume}\\; \\neg b \\wedge \\theta \\,)\\; ; {\\sf assert} \\; \\psi \\,] \\\\ = \\\\\n",
        "\\phi \\to \\theta \\wedge \\forall \\vec{x}. \\, (\\,(b \\wedge \\theta \\to [C\\;; {\\sf assert}\\; \\theta ]) \\wedge (\\neg b \\wedge \\theta \\to \\psi )\\,)\n",
        "\\end{array}\n",
        "$$\n",
        "\n",
        "Note que $[ \\,{\\sf assume}\\; \\mathit{False}\\;; {\\sf assert} \\; \\psi \\,] = \\mathit{False} \\to \\psi = \\mathit{True}$.\n",
        "\n"
      ],
      "metadata": {
        "id": "TdVTi2ZpRtdB"
      }
    },
    {
      "cell_type": "markdown",
      "source": [
        "Para provar que este programa é correcto pelo método havoc, teremos que, em primeiro lugar, proceder à sua tradução para a linguagem de fluxos com havoc"
      ],
      "metadata": {
        "id": "3O6EcEAYSHWb"
      }
    },
    {
      "cell_type": "markdown",
      "source": [
        "```python\n",
        "        assume m >= 0 and n >= 0 and r == 0 and x == m and y == n #pre-condicao \n",
        "        0: while y > 0:\n",
        "        1:    assert y>=0 and y<=n and x == m + r #invariante\n",
        "        2:    if y & 1 == 1: \n",
        "                    y , r  = y-1 , r+x\n",
        "        3:    x , y = x<<1  ,  y>>1\n",
        "        4: assert r == m * n #pos-condicao\n",
        "```"
      ],
      "metadata": {
        "id": "xMgFdCNXeFgw"
      }
    },
    {
      "cell_type": "markdown",
      "source": [
        "**Pré-condição**\n",
        "\n",
        "$m >= 0 \\quad \\land\\ \\quad n >= 0 \\quad \\land\\ \\quad r = 0 \\quad \\land\\ \\quad x = m \\quad \\land\\ \\quad y = n$\n",
        "\n",
        "**Pós-condição**\n",
        "\n",
        "$r = m * n$\n",
        "\n"
      ],
      "metadata": {
        "id": "0GyWZVSUxU2d"
      }
    },
    {
      "cell_type": "markdown",
      "source": [
        "**Invariante**\n",
        "\n",
        "$y >= 0 \\quad \\land\\ \\quad y >= n \\quad \\land\\ \\quad x = m + r$"
      ],
      "metadata": {
        "id": "ujQSL8MVUGj3"
      }
    },
    {
      "cell_type": "markdown",
      "source": [
        "\n",
        "```python\n",
        "pre = m >= 0 and n >= 0 and r == 0 and x == m and y == n\n",
        "pos = r == m * n\n",
        "inv = y>=0 and y<=n and x == m + r\n",
        "\n",
        "assume pre;\n",
        "assert inv;\n",
        "havoc r, havoc x, havoc y;\n",
        "((assume y>0 and inv;((assume y and 1==1;y==y-1;r==r+x)||assume not(y and 1==1);)\n",
        "  ;x==x<<1;y==y>>1;assert inv; assume False;assert pos;)||\n",
        " (assume not(y>0) and inv;assert pos;))\n",
        "\n",
        "\n",
        "#Inicialização\n",
        "pre->(inv and (havoc r,havoc x,havoc y; \n",
        "               ((assume y>0 and inv;((assume y and 1==1;y==y-1;r==r+x)||assume not(y and 1==1);)\n",
        "                 ;x==x<<1;y==y>>1;assert inv; assume False;assert pos;)\n",
        "                ||assume not(y>0) and inv;assert pos;)))\n",
        "\n",
        "#Preservação\n",
        "\n",
        "pre->(inv and ForAll([r,x,y],\n",
        "               ((assume y>0 and inv;((assume y and 1==1;y==y-1;r==r+x)||assume not(y and 1==1););\n",
        "                 x==x<<1;y==y>>1;assert inv; assume False;assert pos;)\n",
        "                ||assume not(y>0) and inv;assert pos;)))\n",
        "\n",
        "pre->(inv and ForAll([r,x,y],\n",
        "               ((assume y>0 and inv;((assume y and 1==1;y==y-1;r==r+x)||assume not(y and 1==1);)\n",
        "                 x==x<<1;y==y>>1;assert inv;)))\n",
        "                and assume not(y>0) and inv;assert pos;)\n",
        "\n",
        "#Utilidade\n",
        "\n",
        "pre->(inv and ForAll([r,x,y],\n",
        "               (y>0 and inv->(((y and 1==1)-> inv;[y>>1/y][x<<1/x][r+x/r][y-1/y])\n",
        "                               and (not(y and 1==1)->inv;[y>>1/y][x<<i/x]))\n",
        "               ))\n",
        "                and (not(y>0) and inv) -> pos;)\n",
        "```\n"
      ],
      "metadata": {
        "id": "2GQw2nCqVLp0"
      }
    },
    {
      "cell_type": "markdown",
      "source": [
        "Prova da correção"
      ],
      "metadata": {
        "id": "80q0vVmQywOJ"
      }
    },
    {
      "cell_type": "code",
      "source": [
        "def prove(f):\n",
        "    s = Solver()\n",
        "    s.add(Not(f))\n",
        "    r = s.check()\n",
        "    if r == unsat:\n",
        "        print(\"Proved\")\n",
        "    else:\n",
        "        print(\"Failed to prove\")\n",
        "        m = s.model()\n",
        "        for v in m:\n",
        "            print(v,'=', m[v])"
      ],
      "metadata": {
        "id": "xR06xECiaffB"
      },
      "execution_count": null,
      "outputs": []
    },
    {
      "cell_type": "code",
      "source": [
        "N = 16\n",
        "s = BitVecSort(N)\n",
        "m,n,r,x,y = Consts(\"m n r x y\",s)\n",
        "\n",
        "\n",
        "pre = And(m >=0, n >=0, r == 0, x == m, y == n)\n",
        "pos = r == m*n\n",
        "inv = And(y>=0, y<=n, x == m + r)\n",
        "\n",
        "d1 = Implies(And(Not(y==0),1==1),substitute(substitute(substitute(substitute(inv,(y,y>>1)),(x,x<<1)),(r,r+x)),(y,y-1)))\n",
        "d2 = Implies(Not(And(Not(y==0),1==1)),substitute(substitute(inv,(y,y>>1)),(x,x<<1)))\n",
        "\n",
        "inicio = inv\n",
        "ciclo = ForAll([r,x,y],Implies(And(y>0,inv),And(d1,d2)))\n",
        "fim = Implies(And(Not(y>0),inv),pos)\n",
        "\n",
        "prove(Implies(pre,And(inicio,ciclo,fim)))"
      ],
      "metadata": {
        "id": "l755sxAsky9T",
        "colab": {
          "base_uri": "https://localhost:8080/"
        },
        "outputId": "35f0f1fd-8605-44b6-a2f3-c1dcd36a2e40"
      },
      "execution_count": null,
      "outputs": [
        {
          "output_type": "stream",
          "name": "stdout",
          "text": [
            "Proved\n"
          ]
        }
      ]
    },
    {
      "cell_type": "markdown",
      "source": [
        "### c. Construa a definição iterativa do “single assignment unfolding”  usando um parâmetro limite $$\\,N\\,$$ e aumentando a pré-condição com a condição $(n < N)\\,\\land\\,(m<N)$\n",
        "\n",
        "O número de iterações vai ser controlado por este parâmetro N"
      ],
      "metadata": {
        "id": "v09JOExTkma0"
      }
    },
    {
      "cell_type": "markdown",
      "source": [
        "```python\n",
        "  assume m>=0 and n>=0 and r==0 and x==m and y==n and n<N and m<N);\n",
        "\n",
        "assume y<=0;\n",
        "assert y*x+r == n*m;\n",
        "\n",
        "||\n",
        "\n",
        "assume y>0;\n",
        "assume y&1==1;\n",
        "y0 = y - 1;\n",
        "r0 = r + x;\n",
        "x0 = x;\n",
        "y1 = y0 >> 1;\n",
        "x1 = x0 << 1;\n",
        "r1 = r0;\n",
        "||\n",
        "assume y&1!=1;\n",
        "y1 = y >> 1;\n",
        "x1 = x << 1;\n",
        "r1 = r;\n",
        "\n",
        "assume y1<=0;\n",
        "assert y1*x1+r1 = n*m;\n",
        "\n",
        "...\n",
        "```"
      ],
      "metadata": {
        "id": "ofNKF3w6Yo5w"
      }
    },
    {
      "cell_type": "markdown",
      "source": [
        "Após o *unfold* do ciclo, temos um programa sem ciclos cuja denotação lógica (a sua VC) pode ser obtida por qualquer das técnicas apresentadas na aula anterior (transformação do programa na linguagem intermédia de fluxo, seguida da geração da VC com WPC)."
      ],
      "metadata": {
        "id": "iM97w2O8knC0"
      }
    },
    {
      "cell_type": "code",
      "source": [
        "def unfold(N):\n",
        "\n",
        "    pre = (And(m>=0,n>=0,r==0,x==m,y==n,n<N,m<N))\n",
        "    l1 = []\n",
        "    v = {}\n",
        "    for i in range(2*N+1):\n",
        "        v['x'+str(i)] = Const('x'+str(i),s)\n",
        "        v['y'+str(i)] = Const('y'+str(i),s)\n",
        "        v['r'+str(i)] = Const('r'+str(i),s)\n",
        "\n",
        "    l1.append(And(v['y0'] == y,v['x0'] == x,v['r0'] == r))\n",
        "    for i in range(1,2*N+1,2):\n",
        "\n",
        "        y0 = v['y'+str(i-1)]\n",
        "        y1 = v['y'+str(i)]\n",
        "        y2 = v['y'+str(i+1)]\n",
        "        x0 = v['x'+str(i-1)]\n",
        "        x1 = v['x'+str(i)]\n",
        "        x2 = v['x'+str(i+1)]\n",
        "        r0 = v['r'+str(i-1)]\n",
        "        r1 = v['r'+str(i)]\n",
        "        r2 = v['r'+str(i+1)]\n",
        "                \n",
        "        k = And(y0>0,Or(And(y0&1==1,y1==y0-1,r1==r0+x0,x1==x0,y2==y1>>1,x2==x1<<1,r2==r1),And(y0&1!=1,y2==y0>>1,x2==x0<<1,r0==r2)))\n",
        "        l1.append(k)\n",
        "    \n",
        "    r0 = v['r'+str(2*N)]\n",
        " \n",
        "    return Implies(And(pre,And(l1)),r0==m*n)\n",
        "            \n",
        "prove(unfold(N))"
      ],
      "metadata": {
        "id": "azkjtSfXkznr",
        "colab": {
          "base_uri": "https://localhost:8080/"
        },
        "outputId": "82c34696-4802-479d-d456-3fe651a385d2"
      },
      "execution_count": null,
      "outputs": [
        {
          "output_type": "stream",
          "name": "stdout",
          "text": [
            "Proved\n"
          ]
        }
      ]
    }
  ]
}
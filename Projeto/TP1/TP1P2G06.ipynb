{
  "nbformat": 4,
  "nbformat_minor": 0,
  "metadata": {
    "colab": {
      "name": "TP1P2G06.ipynb",
      "provenance": []
    },
    "kernelspec": {
      "name": "python3",
      "display_name": "Python 3"
    },
    "language_info": {
      "name": "python"
    }
  },
  "cells": [
    {
      "cell_type": "markdown",
      "metadata": {
        "id": "2LO1r5dSq9Bp"
      },
      "source": [
        "# Trabalho 1\n",
        "Grupo 06\n",
        "- Tomás Vaz de Carvalho Campinho A91668\n",
        "- Miguel Ângelo Alves de Freitas A91635"
      ]
    },
    {
      "cell_type": "markdown",
      "metadata": {
        "id": "aSNChR-3oLao"
      },
      "source": [
        "# Problema 2\n",
        "\n",
        "\n",
        "\n",
        "2. Da definição do jogo “Sudoku” generalizado para a dimensão N; o problema tradicional corresponde ao caso N=3. O objetivo do Sudoku é preencher uma grelha de ,N^2 times N^2, com inteiros positivos no intervalo ,1 até ,N^2,, satisfazendo as seguintes regras.\n",
        "\n",
        "      a. Cada inteiro no intervalo,1 até N^2 ocorre  só uma vez em cada coluna, linha e secção N times N.\n",
        "\n",
        "      b. No início do jogo uma fração 0 <=a < 1 das N^4 casas da grelha são preenchidas de forma consistente com a regra anterior.\n",
        "        \n",
        "  2.1 Construir um programa para inicializar a grelha a partir dos parâmetros N e alpha\n",
        "  \n",
        "  2.2 Construir soluções do problema para  as combinações de parâmetros in {3,4,5,6\\}e, a em {0.0,0.2,0.4,0.6} . Que conclusões pode tirar da complexidade computacional destas soluções."
      ]
    },
    {
      "cell_type": "code",
      "metadata": {
        "id": "tfrV-XsOoJVw"
      },
      "source": [
        "!pip install ortools"
      ],
      "execution_count": null,
      "outputs": []
    },
    {
      "cell_type": "code",
      "metadata": {
        "id": "XXlBK6WyoQBy"
      },
      "source": [
        "from ortools.linear_solver import pywraplp\n",
        "import networkx as nx"
      ],
      "execution_count": null,
      "outputs": []
    },
    {
      "cell_type": "markdown",
      "metadata": {
        "id": "-sDtwTRXoSQ0"
      },
      "source": [
        "#Ponto de partida\n",
        "**1.** Quando pensamos em fazer o sudoku imaginamos que o sudoku seria uma matriz uma vez que é uma tabela e em cada celula (x,y) iriamos ter o valor dessa tabela. Então a seguinte função vai gerar um sudoku sempre diferente e válido. Para a estratégia de gerar o sudoku basicamente fizemos por escolha aleatoria, primeiramente geramos uma matriz preenchida com tudo a zeros."
      ]
    },
    {
      "cell_type": "code",
      "metadata": {
        "id": "syqWmizyoS5p"
      },
      "source": [
        "import random\n",
        "import networkx as nx\n",
        "\n",
        " \n",
        "def Sudoku(m, a):\n",
        "    n = m*m\n",
        "    a = round(n*n*a)\n",
        "    tabela = [[0 for x in range(n)] for y in range(n)]\n",
        "            \n",
        "    for i in range(n):\n",
        "        for j in range(n):\n",
        "            tabela[i][j] = 0\n",
        "\n",
        "    for i in range(a):\n",
        "        linha = random.randrange(n)\n",
        "        coluna = random.randrange(n)\n",
        "        num = random.randrange(1,n+1)\n",
        "        while(not sitiovalido(tabela,linha,coluna,num,n) or tabela[linha][coluna] != 0):\n",
        "            linha = random.randrange(n)\n",
        "            coluna = random.randrange(n)\n",
        "            num = random.randrange(1,n+1)\n",
        "        tabela[linha][coluna]= num;\n",
        "        \n",
        "    print(tabela)"
      ],
      "execution_count": null,
      "outputs": []
    },
    {
      "cell_type": "markdown",
      "metadata": {
        "id": "1iuFPLzUoWLt"
      },
      "source": [
        "**2**. Basicamente vai escolher um número aleatorio e vai preencher num espaço aleatório e depois vai verificar se é válido nesse espaço e também num sitio que ainda não foi preenchido. Vai comparar com o resto da tabela ver se se é valido, caso seja válido dá return true. As restrições que fizemos foram as seguintes:\n",
        "\n",
        "a. ver se esse numero é igual na tabela e na linha.\n",
        "\n",
        "b. ver se é valido no quadrado que se encontra."
      ]
    },
    {
      "cell_type": "code",
      "metadata": {
        "id": "hL1tOjqOoUR-"
      },
      "source": [
        "def sitiovalido(tabela,linha,coluna,num,n):\n",
        "    valid = True\n",
        "    j= n//2\n",
        "    for x in range(n):\n",
        "        if (tabela[x][coluna] == num):\n",
        "            valid = False\n",
        "    for y in range(n):\n",
        "        if (tabela[linha][y] == num):\n",
        "            valid = False\n",
        "    linhasection = linha // j \n",
        "    colunasection = coluna // j\n",
        "    for x in range(j):\n",
        "        for y in range(j):\n",
        "          #vê se a secção é valida\n",
        "            if(tabela[linhasection*j + x][colunasection*j + y] == num):\n",
        "                valid = False\n",
        "    return valid"
      ],
      "execution_count": null,
      "outputs": []
    },
    {
      "cell_type": "code",
      "metadata": {
        "colab": {
          "base_uri": "https://localhost:8080/"
        },
        "id": "yn31SpmhoZyQ",
        "outputId": "7e3e3054-b9d8-46ae-c563-a4f2b88b06b2"
      },
      "source": [
        "Sudoku(4,0.2)"
      ],
      "execution_count": null,
      "outputs": [
        {
          "output_type": "stream",
          "name": "stdout",
          "text": [
            "[[0, 0, 0, 0, 0, 4, 0, 3, 0, 0, 0, 1, 0, 0, 0, 0], [0, 0, 0, 0, 0, 7, 0, 0, 0, 12, 0, 0, 0, 0, 0, 0], [0, 11, 0, 0, 0, 0, 0, 0, 0, 15, 0, 0, 0, 0, 0, 0], [14, 0, 0, 0, 0, 0, 0, 0, 0, 16, 0, 0, 0, 0, 0, 0], [0, 0, 0, 0, 1, 0, 0, 5, 0, 0, 0, 0, 0, 0, 0, 4], [0, 0, 0, 0, 0, 6, 0, 13, 8, 0, 0, 0, 9, 0, 2, 14], [0, 0, 0, 0, 0, 0, 0, 0, 0, 0, 0, 0, 0, 0, 0, 3], [0, 0, 8, 0, 16, 0, 0, 0, 11, 0, 0, 0, 6, 0, 0, 7], [0, 1, 0, 0, 8, 0, 0, 0, 0, 0, 0, 0, 12, 0, 0, 0], [0, 6, 0, 0, 0, 2, 14, 0, 0, 0, 13, 0, 0, 0, 11, 15], [0, 0, 0, 0, 0, 16, 9, 0, 14, 0, 0, 0, 2, 0, 0, 1], [0, 0, 0, 0, 7, 0, 0, 0, 0, 0, 0, 0, 3, 6, 0, 0], [0, 0, 0, 15, 0, 0, 0, 4, 0, 0, 0, 0, 0, 16, 0, 0], [0, 0, 10, 0, 5, 0, 0, 0, 0, 0, 0, 0, 0, 0, 0, 0], [0, 12, 13, 0, 0, 0, 0, 0, 0, 0, 7, 0, 0, 0, 0, 0], [0, 0, 0, 0, 0, 0, 0, 11, 0, 0, 9, 0, 0, 0, 0, 0]]\n"
          ]
        }
      ]
    },
    {
      "cell_type": "markdown",
      "metadata": {
        "id": "Lk57qsu_obta"
      },
      "source": [
        "#Solver\n",
        "\n",
        "**1.** Para o exercicio 2 alinea 2.2 nós optamos por obter um sudoku feito e resolvido por grafos, assim não temos o problema de ter que inverter a matriz para um grafo e depois colorir e voltar a passar para matriz.\n",
        "\n",
        "**2**. Sendo assim optamos pela seguinte função que testa se é possível colorir um grafo com $k$ cores usando o OR-Tools com o solver BOP que é um versão mais rápida do SCIP, usada em aula. Se for possível, deve guardar a coloração no grafo (no atributo color). Usamos um dicionário x para guardar as varáveis, sendo que em x[v][c] será armazenada a variável $x_{v,c}$. "
      ]
    },
    {
      "cell_type": "code",
      "metadata": {
        "id": "eP0DpCwCoeOa"
      },
      "source": [
        "def ip_color_op(graph,k):\n",
        "    # criar solver\n",
        "    solver = pywraplp.Solver('BOP', pywraplp.Solver.BOP_INTEGER_PROGRAMMING)\n",
        "    #criar dicionario de variaveis x{i,j} \n",
        "    x = {}\n",
        "    for i in graph:\n",
        "      x[i] = {}\n",
        "      for j in range(k):\n",
        "        x[i][j] = solver.BoolVar('x[%i][%i]' % (i,j))\n",
        "      \n",
        "    # vertices adjacentes tem cores diferentes\n",
        "    for o in graph:\n",
        "      for d in graph[o]:\n",
        "        for j in range(k):\n",
        "          solver.Add(x[o][j] + x[d][j] <= 1)\n",
        "\n",
        "    # Manter o que ja tem cor\n",
        "    for v in graph:\n",
        "      if 'color' in graph.nodes[v]:\n",
        "        solver.Add(x[v][graph.nodes[v]['color']] == 1)\n",
        "    \n",
        "\n",
        "    for i in graph:\n",
        "      solver.Add(sum([x[i][j] for j in range(k)]) == 1)  # ou solver.Add(sum(list(x[i].values())) == 1) \n",
        "\n",
        "    # invocar solver e colorir o grafo\n",
        "\n",
        "    status = solver.Solve()\n",
        "    if status == pywraplp.Solver.OPTIMAL:\n",
        "        for i in graph:\n",
        "            for j in range(k):\n",
        "                if round(x[i][j].solution_value())==1:\n",
        "                    graph.nodes[i]['color'] = j\n",
        "        return True\n",
        "    else:\n",
        "        return False"
      ],
      "execution_count": null,
      "outputs": []
    },
    {
      "cell_type": "code",
      "metadata": {
        "id": "bLoYzfXUogkp"
      },
      "source": [
        "def sudoku(N):\n",
        "  graph = nx.Graph()\n",
        "  \n",
        "  # nodos\n",
        "  for i in range(1,(N**4)+1):\n",
        "    graph.add_node(i)\n",
        "    \n",
        "  # colunas\n",
        "  for i in range(1,(N**4)+1):\n",
        "    for j in range(i+N**2,(N**4)+1,N**2):\n",
        "      graph.add_edge(i,j)\n",
        "      \n",
        "  # linhas\n",
        "  lim = N**2\n",
        "  for casa in range(1,(N**4)+1):\n",
        "    for k in range(casa+1,lim+1):\n",
        "      graph.add_edge(casa, k)\n",
        "    if casa % N**2 == 0:\n",
        "      lim = lim+N**2\n",
        "\n",
        "  # quadrados\n",
        "  dic = {}\n",
        "  for i in range(N**2):\n",
        "    dic[i] = []\n",
        "\n",
        "  k = 0\n",
        "  p = 1\n",
        "  l = 0\n",
        "  for i in range(1,N**4+1):\n",
        "    dic[l + k].append(i)\n",
        "    if i % N == 0:\n",
        "      k = (k+1) % N\n",
        "    if i % N**2 == 0:\n",
        "      p+=1\n",
        "      if p > N:\n",
        "        l+=N\n",
        "        p=1\n",
        "\n",
        "  for lista in dic.values():\n",
        "    for i in lista:\n",
        "      for j in lista:\n",
        "        if i != j:\n",
        "          graph.add_edge(i,j)\n",
        "\n",
        "  #print(graph.edges())\n",
        "  assert ip_color_op(graph, N**2)\n",
        "  # draw_with_colors(graph)\n",
        "\n",
        "  return graph"
      ],
      "execution_count": null,
      "outputs": []
    },
    {
      "cell_type": "markdown",
      "metadata": {
        "id": "o6cYi8-JokaZ"
      },
      "source": [
        "**3.** Para fazer print ao sudoku no inicio tivemos algumas dúvidas de como poderiamos mostrar o sudoku, desta forma optamos por separar por quadrados assim fica mais visivel à sua visualização"
      ]
    },
    {
      "cell_type": "code",
      "metadata": {
        "id": "BjGKO_A1oj0R"
      },
      "source": [
        "def print_sudoku(graph, N):\n",
        "  num = 1\n",
        "  for i in range(N**2):\n",
        "    for j in range(N):\n",
        "      print(\" \", end =\"\")\n",
        "      for k in range(N):\n",
        "        if 'color' in graph.nodes[num]:\n",
        "          print(\"%02d\" % (graph.nodes[num]['color']+1), end =\" \")\n",
        "        else:\n",
        "          print(\"..\", end =\" \")\n",
        "        num+=1\n",
        "      if j != N-1:\n",
        "        print(\" \", end =\"\")\n",
        "    print(\"\\n\", end =\"\")\n",
        "    if (i+1) % N == 0 and i != N**2-1:\n",
        "      for y in range(N):\n",
        "        for x in range((3*N)+1):\n",
        "          print(\" \", end =\"\")\n",
        "        if y != N-1:\n",
        "          print(\" \", end =\"\")\n",
        "        else:\n",
        "          print(\"\\n\", end =\"\")"
      ],
      "execution_count": null,
      "outputs": []
    },
    {
      "cell_type": "markdown",
      "metadata": {
        "id": "QGRNZYF1vPI8"
      },
      "source": [
        "#Exemplo de Sudoku gerado para N=3"
      ]
    },
    {
      "cell_type": "code",
      "metadata": {
        "colab": {
          "base_uri": "https://localhost:8080/"
        },
        "id": "d8HsNms_onbM",
        "outputId": "ad2568a7-e4e3-454b-9aab-7dd6043fb743"
      },
      "source": [
        "import timeit\n",
        "t = timeit.timeit(lambda: print_sudoku(sudoku(3),3), number = 1)\n",
        "\n",
        "print(\"Tempo de execução:\",t)\n",
        "\n"
      ],
      "execution_count": null,
      "outputs": [
        {
          "output_type": "stream",
          "name": "stdout",
          "text": [
            " 03 04 06   01 08 05   02 07 09 \n",
            " 01 02 05   09 03 07   08 04 06 \n",
            " 08 07 09   02 04 06   01 03 05 \n",
            "                                \n",
            " 05 06 03   04 01 02   07 09 08 \n",
            " 04 01 02   08 07 09   05 06 03 \n",
            " 07 09 08   05 06 03   04 01 02 \n",
            "                                \n",
            " 06 05 04   03 02 01   09 08 07 \n",
            " 02 03 01   07 09 08   06 05 04 \n",
            " 09 08 07   06 05 04   03 02 01 \n",
            "Tempo de execução: 0.2685621489999903\n"
          ]
        }
      ]
    },
    {
      "cell_type": "markdown",
      "metadata": {
        "id": "KjvKX_2qvVQV"
      },
      "source": [
        "#Exemplo de Sudoku gerado para N=4"
      ]
    },
    {
      "cell_type": "code",
      "metadata": {
        "colab": {
          "base_uri": "https://localhost:8080/"
        },
        "id": "scepBjQ-vDPa",
        "outputId": "75c50473-13f5-4342-fc27-035d9890acaa"
      },
      "source": [
        "t = timeit.timeit(lambda: print_sudoku(sudoku(4),4), number = 1)\n",
        "print(\"Tempo de execução:\",t)"
      ],
      "execution_count": null,
      "outputs": [
        {
          "output_type": "stream",
          "name": "stdout",
          "text": [
            " 05 02 03 04   01 06 07 08   09 10 11 12   13 14 15 16 \n",
            " 01 06 07 08   05 02 03 04   13 14 15 16   09 10 11 12 \n",
            " 09 10 11 12   13 14 15 16   01 02 03 04   05 06 07 08 \n",
            " 13 14 15 16   09 10 11 12   05 06 07 08   01 02 03 04 \n",
            "                                                       \n",
            " 02 01 04 03   06 05 08 07   10 09 12 11   14 13 16 15 \n",
            " 06 05 08 07   02 01 04 03   14 13 16 15   10 09 12 11 \n",
            " 10 09 12 11   14 13 16 15   02 01 04 03   06 05 08 07 \n",
            " 14 13 16 15   10 09 12 11   06 05 08 07   02 01 04 03 \n",
            "                                                       \n",
            " 03 04 01 02   07 08 05 06   11 12 09 10   15 16 13 14 \n",
            " 07 08 05 06   03 04 01 02   15 16 13 14   11 12 09 10 \n",
            " 11 12 09 10   15 16 13 14   03 04 01 02   07 08 05 06 \n",
            " 15 16 13 14   11 12 09 10   07 08 05 06   03 04 01 02 \n",
            "                                                       \n",
            " 04 03 02 01   08 07 06 05   12 11 10 09   16 15 14 13 \n",
            " 08 07 06 05   04 03 02 01   16 15 14 13   12 11 10 09 \n",
            " 12 11 10 09   16 15 14 13   04 03 02 01   08 07 06 05 \n",
            " 16 15 14 13   12 11 10 09   08 07 06 05   04 03 02 01 \n",
            "Tempo de execução: 2.5104190550000567\n"
          ]
        }
      ]
    },
    {
      "cell_type": "markdown",
      "metadata": {
        "id": "0OG-7t1HvcNZ"
      },
      "source": [
        "#Exemplo de Sudoku gerado para N=5"
      ]
    },
    {
      "cell_type": "code",
      "metadata": {
        "colab": {
          "base_uri": "https://localhost:8080/"
        },
        "id": "V29eTlilvK4E",
        "outputId": "f52ba362-d8be-412e-81a8-42fa955b5223"
      },
      "source": [
        "t = timeit.timeit(lambda: print_sudoku(sudoku(5),5), number = 1)\n",
        "print(\"Tempo de execução:\",t)"
      ],
      "execution_count": null,
      "outputs": [
        {
          "output_type": "stream",
          "name": "stdout",
          "text": [
            " 03 14 06 07 16   09 19 11 24 23   04 22 12 17 08   01 15 13 10 18   25 20 02 21 05 \n",
            " 24 15 17 09 08   02 14 03 16 06   25 05 20 11 23   19 21 07 12 04   13 01 10 22 18 \n",
            " 02 05 20 13 01   18 10 08 21 12   06 09 15 24 07   25 22 03 23 11   16 14 04 19 17 \n",
            " 22 10 12 11 21   25 04 20 13 01   19 02 03 16 18   14 17 08 24 05   23 09 07 15 06 \n",
            " 18 19 23 25 04   05 15 17 22 07   10 14 13 21 01   06 16 09 20 02   11 03 08 12 24 \n",
            "                                                                                    \n",
            " 06 09 11 21 19   24 08 15 17 20   07 01 04 25 16   18 14 12 22 10   03 02 13 05 23 \n",
            " 05 02 01 15 17   16 06 07 04 14   23 08 18 20 10   03 11 25 13 09   22 12 21 24 19 \n",
            " 12 04 07 24 14   11 13 23 09 05   17 03 22 19 21   02 06 16 15 20   08 18 25 01 10 \n",
            " 20 03 10 23 18   01 21 12 25 22   14 13 02 05 06   04 07 24 08 19   17 11 09 16 15 \n",
            " 13 16 25 08 22   03 18 10 02 19   09 15 24 12 11   17 05 23 21 01   20 07 06 04 14 \n",
            "                                                                                    \n",
            " 15 25 16 14 09   07 17 22 12 21   13 20 10 04 02   23 03 01 06 24   18 19 05 11 08 \n",
            " 11 20 05 04 24   10 03 06 23 16   12 18 07 22 09   08 13 19 02 15   14 17 01 25 21 \n",
            " 07 18 13 10 12   19 09 25 14 08   11 17 06 01 15   16 04 22 05 21   02 24 20 23 03 \n",
            " 08 23 22 19 06   20 02 01 05 15   16 21 14 03 24   11 09 17 18 25   10 04 12 07 13 \n",
            " 01 17 21 02 03   04 11 24 18 13   05 19 23 08 25   10 20 14 07 12   09 22 15 06 16 \n",
            "                                                                                    \n",
            " 14 11 24 22 05   15 12 04 19 17   02 07 08 18 03   09 25 20 16 06   21 13 23 10 01 \n",
            " 09 12 19 16 10   21 07 18 03 02   15 25 01 13 20   24 23 05 04 14   06 08 11 17 22 \n",
            " 17 01 04 06 25   13 20 16 08 10   24 23 05 14 12   21 18 02 11 22   19 15 03 09 07 \n",
            " 21 07 03 18 02   23 25 05 06 09   22 11 17 10 04   13 19 15 01 08   24 16 14 20 12 \n",
            " 23 08 15 20 13   22 24 14 01 11   21 06 16 09 19   07 12 10 17 03   04 05 18 02 25 \n",
            "                                                                                    \n",
            " 04 21 08 17 23   14 05 19 07 24   18 12 09 15 13   20 02 06 25 16   01 10 22 03 11 \n",
            " 16 24 09 01 15   12 22 02 11 04   03 10 25 06 17   05 08 21 14 13   07 23 19 18 20 \n",
            " 10 22 18 05 07   06 16 21 20 03   08 04 19 23 14   12 01 11 09 17   15 25 24 13 02 \n",
            " 19 13 02 12 11   08 01 09 10 25   20 16 21 07 22   15 24 18 03 23   05 06 17 14 04 \n",
            " 25 06 14 03 20   17 23 13 15 18   01 24 11 02 05   22 10 04 19 07   12 21 16 08 09 \n",
            "Tempo de execução: 16.44587977900005\n"
          ]
        }
      ]
    },
    {
      "cell_type": "markdown",
      "metadata": {
        "id": "APpyJoftp_iY"
      },
      "source": [
        "#Conclusões\n",
        "\n",
        "As conclusões que o nosso grupo conseguiu tirar em relação à resolução deste sudoku foi que quanto maior for o n e maior for o alpha o tempo de execução do solver vai crescer exponencialmente.\n",
        "\n",
        "Sempre que aumentavamos o numero de células resolvidas o sudoku demorava mais tempo a gerar pois ele não consegue verificar e preencher tudo ao mesmo tempo em \"N\" tempo. Aliás se tentassemos gerar um sudoku preenchido ele iria demorar muito tempo.\n",
        "\n",
        "Quanto à primeira parte observamos que parte do problema é para cada Sudoku 9x9 válido tem os dígitos 1-9 uma vez em cada linha, e para cada tabela que gerar com essa propriedade encontraramos 1.8e27 que não tem. Isso é pouco mais do que a batata do meu computador pode suportar.\n",
        "\n",
        "A maioria das estratégias que conheço recaem em uma breadth or depth first search. Ou seja se quisessemos melhorar o tempo de execução do primeiro código teriamos que:\n",
        "\n",
        "  - Colocar cada dígito em ordem (1s, depois 2s, ...). A maioria das maneiras de fazer isso termina em Sudokus válidos, ao passo que, especialmente para sudokus maiores, a construção de um quadrado por vez geralmente termina em Sudokus inválidos.\n",
        "\n",
        "Que por sua vez foi o que tentamos fazer na segunda parte do trabalho.´\n",
        "\n",
        "Outro tipo de estratégia que poderiamos ter utilizado e era sugerido em muitos sites pela internet era gerar um sudoku válido e apagar e resolver de novo \"https://liorsinai.github.io/coding/2020/07/27/sudoku-solver.html\". Neste caso Backtracking é um algoritmo que tenta recursivamente soluções potenciais e remove aquelas que não funcionam.\n",
        "\n",
        "Sendo assim conlcuimos que O (n ^ m) onde n é o número de possibilidades para cada quadrado (ou seja, 9 no Sudoku clássico) em é o número de espaços que estão em branco.\n",
        "\n",
        "Se houver três espaços em branco, vamos trabalhar com n possibilidades para o primeiro espaço em branco. Cada uma dessas possibilidades produzirá um puzzle com dois espaços em branco que possui n ^ 2 possibilidades. Concluindo que este algoritmo a sua complexidade vai ser sempre exponencial.\n",
        "\n",
        "Cada nível do gráfico representa as opções para um único quadrado. A profundidade do gráfico é o número de quadrados que precisam ser preenchidos. Com um fator de ramificação de n e uma profundidade de m, encontrar uma solução no gráfico tem um desempenho de pior caso de O (n ^ m).\n",
        "\n",
        "\n"
      ]
    }
  ]
}
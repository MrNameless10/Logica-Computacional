{
  "nbformat": 4,
  "nbformat_minor": 0,
  "metadata": {
    "colab": {
      "name": "TP1P1G06.ipynb",
      "provenance": [],
      "collapsed_sections": []
    },
    "kernelspec": {
      "name": "python3",
      "display_name": "Python 3"
    },
    "language_info": {
      "name": "python"
    }
  },
  "cells": [
    {
      "cell_type": "markdown",
      "metadata": {
        "id": "PPILoxQ3ih89"
      },
      "source": [
        "# Trabalho 1\n",
        "Grupo 06\n",
        "- Tomás Vaz de Carvalho Campinho A91668\n",
        "- Miguel Ângelo Alves de Freitas A91635"
      ]
    },
    {
      "cell_type": "markdown",
      "metadata": {
        "id": "yv9GycWuimN9"
      },
      "source": [
        "# Problema 1\n",
        "1. Pretende-se construir um horário semanal para o plano de reuniões de projeto de uma “StartUp” de acordo com as seguintes condições:\n",
        "    1. Cada reunião ocupa uma sala (enumeradas 1..S) durante um “slot” (tempo, dia).  Assume-se os dias enumerados 1..De, em cada dia, os tempos enumerados 1..T.\n",
        "    2.  Cada reunião tem associado um projeto (enumerados 1..P) e um conjunto de participantes. Os diferentes colaboradores são enumerados 1..C.\n",
        "    3. Cada projeto tem associado um conjunto de colaboradores, dos quais um  é o líder. Cada projeto realiza um dado número de reuniões semanais. São “inputs” do problema o conjunto de colaboradores de cada projeto, o seu líder e o número de reuniões semanais.\n",
        "    4. O líder do projeto participa em todas as reuniões do seu projeto; os restantes colaboradores podem ou não participar consoante a sua disponibilidade, num mínimo (“quorum”) de 50% do total de colaboradores do projeto.  A disponibilidade de cada participante, incluindo o lider, é um conjunto de “slots” (“inputs” do problema)."
      ]
    },
    {
      "cell_type": "markdown",
      "metadata": {
        "id": "2L8h_7dVisCb"
      },
      "source": [
        "Instalar e importar bibliotecas necessárias:"
      ]
    },
    {
      "cell_type": "code",
      "metadata": {
        "id": "f3ZDW6onieHR"
      },
      "source": [
        "!pip3 install ortools"
      ],
      "execution_count": null,
      "outputs": []
    },
    {
      "cell_type": "code",
      "metadata": {
        "id": "pve5gZmyi0H1"
      },
      "source": [
        "from ortools.linear_solver import pywraplp"
      ],
      "execution_count": null,
      "outputs": []
    },
    {
      "cell_type": "markdown",
      "metadata": {
        "id": "G9IdjXg5i2AL"
      },
      "source": [
        "### Inicialização\n"
      ]
    },
    {
      "cell_type": "markdown",
      "metadata": {
        "id": "O4VkS_Mni4-D"
      },
      "source": [
        "Inicializamos o solver horário, a matriz de alocação e todos os inputs do problema:"
      ]
    },
    {
      "cell_type": "code",
      "metadata": {
        "id": "amkLmTRki9Pd"
      },
      "source": [
        "#por exemplo:\n",
        "horario = pywraplp.Solver.CreateSolver('SCIP')\n",
        "x = {}\n",
        "\n",
        "P,C,S,T,D = 2,6,1,2,1\n",
        "\n",
        "colabs = {1:[1,2],2:[3,4,5,6]} #colaboradores (numero_do_projeto:[colaborador,..])\n",
        "lids = {1:2,2:3} #líderes (numero_do_projeto:lider)\n",
        "reuns = {1:1,2:1} #reuniões (numero_do_projeto:numero_de_reunioes)\n",
        "disps = {1:[(1,1)],2:[(1,1)],3:[(2,1)],4:[(2,1)],5:[(2,1)],6:[]} #disponibilidades (colaborador:[(tempo,dia),..])"
      ],
      "execution_count": null,
      "outputs": []
    },
    {
      "cell_type": "markdown",
      "metadata": {
        "id": "m26W08pfi9r7"
      },
      "source": [
        "Definimos x (matriz de alocação) com as variáveis do problema:"
      ]
    },
    {
      "cell_type": "code",
      "metadata": {
        "id": "r5O7sRnRjJyr"
      },
      "source": [
        "def inicializarHorario(colabs):\n",
        "  for p in range(1,P+1):\n",
        "    x[p]  = {}\n",
        "    for c in range(1,C+1):\n",
        "      x[p][c]  = {}\n",
        "      for s in range(1,S+1):\n",
        "        x[p][c][s]  = {}\n",
        "        for t in range(1,T+1):\n",
        "          x[p][c][s][t]  = {}\n",
        "          for d in range(1,D+1):\n",
        "            x[p][c][s][t][d] = horario.BoolVar('x [%i] [%i] [%i] [%i] [%i]' % (p,c,s,t,d))\n",
        "\n",
        "def X(p,c,s,t,d):              \n",
        "  return x[p][c][s][t][d]"
      ],
      "execution_count": null,
      "outputs": []
    },
    {
      "cell_type": "markdown",
      "metadata": {
        "id": "Galhh7CxjW3j"
      },
      "source": [
        "### Restrições"
      ]
    },
    {
      "cell_type": "markdown",
      "metadata": {
        "id": "jYucePoojcWa"
      },
      "source": [
        "**1.** No minimo 50% dos colaboradores do projeto presentes em cada reunião:"
      ]
    },
    {
      "cell_type": "code",
      "metadata": {
        "id": "L_kDrlWJjdhq"
      },
      "source": [
        "def nColabsPresentes(colabs):\n",
        "  for p in range(1,P+1):\n",
        "      horario.Add(sum([X(p,c,s,t,d) for d in range(1,D+1) for s in range(1,S+1) for t in range(1,T+1) for c in colabs[p]]) >= (len(colabs[p])/2))"
      ],
      "execution_count": null,
      "outputs": []
    },
    {
      "cell_type": "markdown",
      "metadata": {
        "id": "DrZ-rCzjjd_a"
      },
      "source": [
        "**2.** Se um colaborador não estiver disponivel, então esse colaborador não vai à reunião:"
      ]
    },
    {
      "cell_type": "code",
      "metadata": {
        "id": "kcwUiE75jeJC"
      },
      "source": [
        "def indisponiveis(disps):\n",
        "  for c in range(1,C+1):\n",
        "    for t in range(1,T+1):\n",
        "      for d in range(1,D+1):\n",
        "        if (t,d) not in disps[c]:\n",
        "          horario.Add(sum([X(p,c,s,t,d) for p in range(1,P+1) for s in range(1,S+1)])==0)"
      ],
      "execution_count": null,
      "outputs": []
    },
    {
      "cell_type": "markdown",
      "metadata": {
        "id": "y0HAyPY2jfYj"
      },
      "source": [
        "**3.** Um colaborador não pode estar em várias reuniões ao mesmo tempo:"
      ]
    },
    {
      "cell_type": "code",
      "metadata": {
        "id": "0nmNEsuIjfpR"
      },
      "source": [
        "def colabUnicaReuniao():\n",
        "  for t in range(1,T+1):\n",
        "    for d in range(1,D+1):\n",
        "      for c in range(1,C+1):\n",
        "        horario.Add(sum([X(p,c,s,t,d) for s in range(1,S+1) for p in range(1,P+1)])<=1)"
      ],
      "execution_count": null,
      "outputs": []
    },
    {
      "cell_type": "markdown",
      "metadata": {
        "id": "m7Bfda8Bjf5p"
      },
      "source": [
        "**4.** Para cada sala num slot (tempo,dia) acontece no máximo uma reunião:"
      ]
    },
    {
      "cell_type": "code",
      "metadata": {
        "id": "XURf21ANjgsB"
      },
      "source": [
        "def umaSalaumaReuniao(lids):\n",
        "  for s in range(1,S+1):\n",
        "    for t in range(1,T+1):\n",
        "      for d in range(1,D+1):\n",
        "        horario.Add(sum([X(p,lids[p],s,t,d) for p in range(1,P+1)])<=1)"
      ],
      "execution_count": null,
      "outputs": []
    },
    {
      "cell_type": "markdown",
      "metadata": {
        "id": "Oncnyux3jhDS"
      },
      "source": [
        "**5.** O líder tem de estar presente em todas as reuniões do projeto:"
      ]
    },
    {
      "cell_type": "code",
      "metadata": {
        "id": "MsvjxUb-jhbq"
      },
      "source": [
        "def nReunioesLider(lids, reuns):\n",
        "  for p in range(1,P+1):\n",
        "    horario.Add(sum([X(p,lids[p],s,t,d) for s in range (1,S+1) for t in range (1,T+1) for d in range (1,D+1)]) == reuns[p])"
      ],
      "execution_count": null,
      "outputs": []
    },
    {
      "cell_type": "markdown",
      "metadata": {
        "id": "P8fkQai4j-8w"
      },
      "source": [
        "### Construção do horário"
      ]
    },
    {
      "cell_type": "markdown",
      "metadata": {
        "id": "FRlJvfhTkBjZ"
      },
      "source": [
        "Imprimir horário:"
      ]
    },
    {
      "cell_type": "code",
      "metadata": {
        "id": "CwO8r1JEkEXD"
      },
      "source": [
        "def imprimeHorario():\n",
        "  r = horario.Solve()\n",
        "  if r == pywraplp.Solver.OPTIMAL:\n",
        "    for d in range(1,D+1):\n",
        "      print(\"DIA\",d)\n",
        "      for t in range(1,T+1):\n",
        "        print(\"\\tTEMPO\",t)\n",
        "        for p in range(1,P+1):\n",
        "          for c in range(1,C+1):\n",
        "            for s in range(1,S+1):\n",
        "              if (t,d) in disps[c]:\n",
        "                if c in colabs[p]:\n",
        "                  print(\"\\t\",\"projeto\",p,\"colaborador\",c,\"sala\",s)\n",
        "  else:\n",
        "    print(\"Não é possível construir horário pois não está de acordo com todas as restrições\")"
      ],
      "execution_count": null,
      "outputs": []
    },
    {
      "cell_type": "markdown",
      "metadata": {
        "id": "boZqH1vPkGyg"
      },
      "source": [
        "Construção final do hórario de acordo com todos os requisitos:"
      ]
    },
    {
      "cell_type": "code",
      "metadata": {
        "colab": {
          "base_uri": "https://localhost:8080/"
        },
        "id": "SffiseL5kI0A",
        "outputId": "6df2d7a3-1853-455f-bc3e-57f8d7535f1f"
      },
      "source": [
        "def horarioStartUp(colabs,lids,reuns,disps):\n",
        "  inicializarHorario(colabs) \n",
        "\n",
        "  nColabsPresentes(colabs)\n",
        "  indisponiveis(disps)\n",
        "  colabUnicaReuniao()        \n",
        "  umaSalaumaReuniao(lids)\n",
        "  nReunioesLider(lids,reuns)\n",
        "  \n",
        "  imprimeHorario()\n",
        "\n",
        "\n",
        "horarioStartUp(colabs,lids,reuns,disps)"
      ],
      "execution_count": null,
      "outputs": [
        {
          "output_type": "stream",
          "name": "stdout",
          "text": [
            "DIA 1\n",
            "\tTEMPO 1\n",
            "\t projeto 1 colaborador 1 sala 1\n",
            "\t projeto 1 colaborador 2 sala 1\n",
            "\tTEMPO 2\n",
            "\t projeto 2 colaborador 3 sala 1\n",
            "\t projeto 2 colaborador 4 sala 1\n",
            "\t projeto 2 colaborador 5 sala 1\n"
          ]
        }
      ]
    },
    {
      "cell_type": "markdown",
      "metadata": {
        "id": "U22r1MrnkLxQ"
      },
      "source": [
        "### Exemplos teste para cada restrição"
      ]
    },
    {
      "cell_type": "markdown",
      "metadata": {
        "id": "muCRQD1gkN6Z"
      },
      "source": [
        "**1.** Só um dos quatro colaboradores (o líder) pode estar presente, logo não haverá reunião:"
      ]
    },
    {
      "cell_type": "code",
      "metadata": {
        "colab": {
          "base_uri": "https://localhost:8080/"
        },
        "id": "AwvdYLHBkQMv",
        "outputId": "26be28c0-1538-4636-9914-ab71d1a463d1"
      },
      "source": [
        "horario = pywraplp.Solver.CreateSolver('SCIP')\n",
        "x = {}\n",
        "P,C,S,T,D = 1,4,1,1,1\n",
        "colabs = {1:[1,2,3,4]}\n",
        "lids = {1:1}\n",
        "reuns = {1:1}\n",
        "disps = {1:[(1,1)],2:[],3:[],4:[]}\n",
        "\n",
        "horarioStartUp(colabs,lids,reuns,disps)"
      ],
      "execution_count": null,
      "outputs": [
        {
          "output_type": "stream",
          "name": "stdout",
          "text": [
            "Não é possível construir horário pois não está de acordo com todas as restrições\n"
          ]
        }
      ]
    },
    {
      "cell_type": "markdown",
      "metadata": {
        "id": "uTOETNZjkSVv"
      },
      "source": [
        "**2.** O colaborador 3 não está disponível, logo não vai à reunião:"
      ]
    },
    {
      "cell_type": "code",
      "metadata": {
        "colab": {
          "base_uri": "https://localhost:8080/"
        },
        "id": "4VCp1mf1kUGM",
        "outputId": "d6bd34c7-4298-4361-81c4-712181fba34e"
      },
      "source": [
        "horario = pywraplp.Solver.CreateSolver('SCIP')\n",
        "x = {}\n",
        "P,C,S,T,D = 1,3,1,1,1\n",
        "colabs = {1:[1,2,3]}\n",
        "lids = {1:1}\n",
        "reuns = {1:1}\n",
        "disps = {1:[(1,1)],2:[(1,1)],3:[]}\n",
        "\n",
        "horarioStartUp(colabs,lids,reuns,disps)"
      ],
      "execution_count": null,
      "outputs": [
        {
          "output_type": "stream",
          "name": "stdout",
          "text": [
            "DIA 1\n",
            "\tTEMPO 1\n",
            "\t projeto 1 colaborador 1 sala 1\n",
            "\t projeto 1 colaborador 2 sala 1\n"
          ]
        }
      ]
    },
    {
      "cell_type": "markdown",
      "metadata": {
        "id": "5AGETJgGkWQP"
      },
      "source": [
        "**3.** O colaborador 1 não consegue estar presente em ambas as reuniões do projeto 1 e 2 ao mesmo tempo:"
      ]
    },
    {
      "cell_type": "code",
      "metadata": {
        "colab": {
          "base_uri": "https://localhost:8080/"
        },
        "id": "0ZxVyREOkay-",
        "outputId": "b57e1005-c948-420a-eea2-1563908bd193"
      },
      "source": [
        "horario = pywraplp.Solver.CreateSolver('SCIP')\n",
        "x = {}\n",
        "P,C,S,T,D = 2,2,2,1,1\n",
        "colabs = {1:[1,2],2:[1,2]}\n",
        "lids = {1:1,2:1}\n",
        "reuns = {1:1,2:1}\n",
        "disps = {1:[(1,1)],2:[]}\n",
        "\n",
        "horarioStartUp(colabs,lids,reuns,disps)"
      ],
      "execution_count": null,
      "outputs": [
        {
          "output_type": "stream",
          "name": "stdout",
          "text": [
            "Não é possível construir horário pois não está de acordo com todas as restrições\n"
          ]
        }
      ]
    },
    {
      "cell_type": "markdown",
      "metadata": {
        "id": "NDTKU0R3kk1-"
      },
      "source": [
        "**4.** Existem duas reuniões diferentes para uma única sala, e para um único slot (tempo,dia):"
      ]
    },
    {
      "cell_type": "code",
      "metadata": {
        "colab": {
          "base_uri": "https://localhost:8080/"
        },
        "id": "7N13L4NTk1S-",
        "outputId": "aacb452d-db85-4ba8-cce5-91ecdc01d3bc"
      },
      "source": [
        "horario = pywraplp.Solver.CreateSolver('SCIP')\n",
        "x = {}\n",
        "P,C,S,T,D = 2,4,1,1,1\n",
        "colabs = {1:[1,2],2:[3,4]}\n",
        "lids = {1:1,2:3}\n",
        "reuns = {1:1,2:1}\n",
        "disps = {1:[(1,1)],2:[(1,1)],3:[(1,1)],4:[(1,1)]}\n",
        "\n",
        "horarioStartUp(colabs,lids,reuns,disps)"
      ],
      "execution_count": null,
      "outputs": [
        {
          "output_type": "stream",
          "name": "stdout",
          "text": [
            "Não é possível construir horário pois não está de acordo com todas as restrições\n"
          ]
        }
      ]
    },
    {
      "cell_type": "markdown",
      "metadata": {
        "id": "baQcL8egk68W"
      },
      "source": [
        "**5.** O líder (colaborador 1) não está disponivel para todas as reuniões do seu projeto:"
      ]
    },
    {
      "cell_type": "code",
      "metadata": {
        "colab": {
          "base_uri": "https://localhost:8080/"
        },
        "id": "ZwL12QQ_k8-F",
        "outputId": "8d0ff87b-fc93-403d-a338-656772824427"
      },
      "source": [
        "horario = pywraplp.Solver.CreateSolver('SCIP')\n",
        "x = {}\n",
        "P,C,S,T,D = 1,3,1,2,2\n",
        "colabs = {1:[1,2,3]}\n",
        "lids = {1:1}\n",
        "reuns = {1:2}\n",
        "disps = {1:[(1,1)],2:[(1,1),(2,2)],3:[(1,1),(2,2)]}\n",
        "\n",
        "horarioStartUp(colabs,lids,reuns,disps)"
      ],
      "execution_count": null,
      "outputs": [
        {
          "output_type": "stream",
          "name": "stdout",
          "text": [
            "Não é possível construir horário pois não está de acordo com todas as restrições\n"
          ]
        }
      ]
    },
    {
      "cell_type": "markdown",
      "metadata": {
        "id": "BJ8-4Y_sk_t3"
      },
      "source": [
        "### Outros exemplos de horários que mostram o bom funcionamento do programa:\n"
      ]
    },
    {
      "cell_type": "code",
      "metadata": {
        "colab": {
          "base_uri": "https://localhost:8080/"
        },
        "id": "FkHNivKflCC8",
        "outputId": "bda31aaf-8a9c-47db-80a2-54b4d6f0736c"
      },
      "source": [
        "horario = pywraplp.Solver.CreateSolver('SCIP')\n",
        "x = {}\n",
        "P,C,S,T,D = 2,5,1,2,1\n",
        "colabs = {1:[1,2,5],2:[3,4]}\n",
        "lids = {1:2,2:4}\n",
        "reuns = {1:1,2:1}\n",
        "disps = {1:[(1,1)],2:[(1,1)],3:[(2,1)],4:[(2,1)],5:[]}\n",
        "\n",
        "horarioStartUp(colabs,lids,reuns,disps)"
      ],
      "execution_count": null,
      "outputs": [
        {
          "output_type": "stream",
          "name": "stdout",
          "text": [
            "DIA 1\n",
            "\tTEMPO 1\n",
            "\t projeto 1 colaborador 1 sala 1\n",
            "\t projeto 1 colaborador 2 sala 1\n",
            "\tTEMPO 2\n",
            "\t projeto 2 colaborador 3 sala 1\n",
            "\t projeto 2 colaborador 4 sala 1\n"
          ]
        }
      ]
    },
    {
      "cell_type": "code",
      "metadata": {
        "colab": {
          "base_uri": "https://localhost:8080/"
        },
        "id": "Ya-1swTglD4k",
        "outputId": "d59b06c6-7839-41be-bd61-e73f7b2d034d"
      },
      "source": [
        "horario = pywraplp.Solver.CreateSolver('SCIP')\n",
        "x = {}\n",
        "P,C,S,T,D = 1,3,1,3,1\n",
        "colabs = {1:[1,2,3]}\n",
        "lids = {1:2}\n",
        "reuns = {1:3}\n",
        "disps = {1:[(1,1),(3,1)],2:[(1,1),(2,1),(3,1)],3:[(2,1),(3,1)]}\n",
        "\n",
        "horarioStartUp(colabs,lids,reuns,disps)"
      ],
      "execution_count": null,
      "outputs": [
        {
          "output_type": "stream",
          "name": "stdout",
          "text": [
            "DIA 1\n",
            "\tTEMPO 1\n",
            "\t projeto 1 colaborador 1 sala 1\n",
            "\t projeto 1 colaborador 2 sala 1\n",
            "\tTEMPO 2\n",
            "\t projeto 1 colaborador 2 sala 1\n",
            "\t projeto 1 colaborador 3 sala 1\n",
            "\tTEMPO 3\n",
            "\t projeto 1 colaborador 1 sala 1\n",
            "\t projeto 1 colaborador 2 sala 1\n",
            "\t projeto 1 colaborador 3 sala 1\n"
          ]
        }
      ]
    },
    {
      "cell_type": "code",
      "metadata": {
        "colab": {
          "base_uri": "https://localhost:8080/"
        },
        "id": "JxVZB-3ElFis",
        "outputId": "a3d24f32-776c-4988-c39e-1777eaebba14"
      },
      "source": [
        "horario = pywraplp.Solver.CreateSolver('SCIP')\n",
        "x = {}\n",
        "P,C,S,T,D = 3,7,1,2,3\n",
        "colabs = {1:[1,2],2:[3,4],3:[5,6,7]}\n",
        "lids = {1:1,2:3,3:6}\n",
        "reuns = {1:1,2:1,3:2}\n",
        "disps = {1:[(1,1)],2:[(1,1)],3:[(2,2)],4:[(2,2)],5:[(1,3),(2,3)],6:[(1,3),(2,3)],7:[(2,3)]}\n",
        "\n",
        "horarioStartUp(colabs,lids,reuns,disps)"
      ],
      "execution_count": null,
      "outputs": [
        {
          "output_type": "stream",
          "name": "stdout",
          "text": [
            "DIA 1\n",
            "\tTEMPO 1\n",
            "\t projeto 1 colaborador 1 sala 1\n",
            "\t projeto 1 colaborador 2 sala 1\n",
            "\tTEMPO 2\n",
            "DIA 2\n",
            "\tTEMPO 1\n",
            "\tTEMPO 2\n",
            "\t projeto 2 colaborador 3 sala 1\n",
            "\t projeto 2 colaborador 4 sala 1\n",
            "DIA 3\n",
            "\tTEMPO 1\n",
            "\t projeto 3 colaborador 5 sala 1\n",
            "\t projeto 3 colaborador 6 sala 1\n",
            "\tTEMPO 2\n",
            "\t projeto 3 colaborador 5 sala 1\n",
            "\t projeto 3 colaborador 6 sala 1\n",
            "\t projeto 3 colaborador 7 sala 1\n"
          ]
        }
      ]
    }
  ]
}

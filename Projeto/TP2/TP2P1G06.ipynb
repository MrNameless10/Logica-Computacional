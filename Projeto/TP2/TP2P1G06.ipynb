{
  "nbformat": 4,
  "nbformat_minor": 0,
  "metadata": {
    "colab": {
      "name": "TP2P1G06.ipynb",
      "provenance": [],
      "collapsed_sections": []
    },
    "kernelspec": {
      "name": "python3",
      "display_name": "Python 3"
    },
    "language_info": {
      "name": "python"
    }
  },
  "cells": [
    {
      "cell_type": "markdown",
      "metadata": {
        "id": "cddYPbSr8BqX"
      },
      "source": [
        "# Trabalho 2\n",
        "Grupo 06\n",
        "- Tomás Vaz de Carvalho Campinho A91668\n",
        "- Miguel Ângelo Alves de Freitas A91635"
      ]
    },
    {
      "cell_type": "markdown",
      "metadata": {
        "id": "5A1Xc0Rrs8c6"
      },
      "source": [
        "## Exercício 1"
      ]
    },
    {
      "cell_type": "markdown",
      "metadata": {
        "id": "NQjshxZqIBtO"
      },
      "source": [
        "1. Um sistema de tráfego  é representado por um grafo orientado ligado. Os nodos denotam pontos de acesso e  os arcos denotam vias de comunicação só com um sentido . \n",
        "    >  O grafo tem de ser ligado o que significa que entre cada par de nodos **(n1,n2)** tem de existir um caminho **n1->n2** e um caminho **n2->n1**.\n",
        "    1. Gerar aleatoriamente um tal grafo com  N=32 nodos.  Cada nodo tem um número aleatório de descendentes no intervalo 1..3  cujos destinos são distintos entre si do nodo origem.\n",
        "    2. Pretende-se fazer  manutenção interrompendo  determinadas vias. Determinar o maior número de vias que é possível remover mantendo o grafo ligado.\n"
      ]
    },
    {
      "cell_type": "markdown",
      "metadata": {
        "id": "kbfYo8dvfwwz"
      },
      "source": [
        "Importar bibliotecas necessárias:"
      ]
    },
    {
      "cell_type": "code",
      "metadata": {
        "id": "_r8dUNwJ05AF",
        "colab": {
          "base_uri": "https://localhost:8080/"
        },
        "outputId": "9254fbeb-105d-468d-cf6c-a5b0081bbdb8"
      },
      "source": [
        "!pip install ortools"
      ],
      "execution_count": null,
      "outputs": [
        {
          "output_type": "stream",
          "name": "stdout",
          "text": [
            "Requirement already satisfied: ortools in /usr/local/lib/python3.7/dist-packages (9.1.9490)\n",
            "Requirement already satisfied: protobuf>=3.18.0 in /usr/local/lib/python3.7/dist-packages (from ortools) (3.19.1)\n",
            "Requirement already satisfied: absl-py>=0.13 in /usr/local/lib/python3.7/dist-packages (from ortools) (1.0.0)\n",
            "Requirement already satisfied: six in /usr/local/lib/python3.7/dist-packages (from absl-py>=0.13->ortools) (1.15.0)\n"
          ]
        }
      ]
    },
    {
      "cell_type": "code",
      "metadata": {
        "id": "471i1OH9D-gc"
      },
      "source": [
        "import networkx as nx\n",
        "import random\n",
        "from ortools.linear_solver import pywraplp"
      ],
      "execution_count": null,
      "outputs": []
    },
    {
      "cell_type": "markdown",
      "metadata": {
        "id": "vkxZzHwjtH__"
      },
      "source": [
        "#Gerar um Digrafo com orientação\n",
        "Neste caso o nosso objetivo é gerar um grafo onde cada nodo vai ter vários caminhos com os outros nodos. Para além disso cada nodo tem um número aleatório de descendentes no intervalo 1..3  cujos destinos são distintos entre si do nodo origem."
      ]
    },
    {
      "cell_type": "markdown",
      "metadata": {
        "id": "VNbjAN3XEVY0"
      },
      "source": [
        "Começa-se por inicializar um grafo orientado vazio, recorrendo à biblioteca networkx.\n",
        "\n",
        "Em seguida percorremos todos os nodos e definimos o número de descedentes, daquele nodo particular, aleatoriamente no intervalo de $1$ a $D$ e geramos aleatóriamente o nodo ao qual se vai ligar. Em caso de já existir essa aresta ou os dois nodos serem iguais, geramos um nodo novo. e adicionamos ao grafo $graph$.\n",
        "\n",
        "Gerar grafo com N nodos e 1..d descendentes:"
      ]
    },
    {
      "cell_type": "code",
      "metadata": {
        "id": "ph78EdJ92gFv"
      },
      "source": [
        "def gerar_grafo(N,d):\n",
        "    grafo = nx.DiGraph()\n",
        "\n",
        "    for x in range(1,N+1):\n",
        "      descendentes = random.randint(1,d)     \n",
        "      for i in range(descendentes):\n",
        "        y = random.randint(1,N)\n",
        "        while(x==y or grafo.has_edge(x,y)): #verificar que não gere arestas repetidas ou lacetes\n",
        "          y = random.randint(1,N)\n",
        "\n",
        "        grafo.add_edge(x,y)\n",
        "    \n",
        "    return grafo"
      ],
      "execution_count": null,
      "outputs": []
    },
    {
      "cell_type": "markdown",
      "metadata": {
        "id": "Dsgqv37rE-Q6"
      },
      "source": [
        "\n",
        "\n",
        "##Ser fortemente ligado.\n",
        "Um vértice de um grafo é **fortemente ligado** a outro se um está ao alcance do outro e vice-versa.  Em outras palavras, um vértice s é fortemente ligado a um vértice t se existe um caminho de s a t e também um caminho de t a s.  (Os dois caminhos são independentes e portanto podem ter vértices e até arcos em comum.)\n",
        "\n",
        "Um grafo é fortemente conexo (= strongly connected) se cada um de seus vértices está fortemente ligado a cada um dos demais.\n",
        "\n",
        "Para termos a certeza que o grafo é fortemente ligado usamos uma função de nx que vai garantir que esta condição vai existir\n",
        "\n",
        "Imprimir grafo orientado ligado com **32** Nodos e **1** a **3** descendentes:"
      ]
    },
    {
      "cell_type": "code",
      "metadata": {
        "colab": {
          "base_uri": "https://localhost:8080/",
          "height": 318
        },
        "id": "P3gPkfsz2g9e",
        "outputId": "fc959348-40ed-48ad-b0e5-361296d95605"
      },
      "source": [
        "N = 32 #nodos\n",
        "d = 3 #1..d descendentes\n",
        "\n",
        "grafo = gerar_grafo(N,d)\n",
        "\n",
        "while(not nx.is_strongly_connected(grafo)): #verificar que o grafo seja orientado ligado\n",
        "  grafo = gerar_grafo(N,d)\n",
        "\n",
        "layout = nx.spring_layout(grafo)\n",
        "nx.draw(grafo, layout, font_size=13, with_labels=True, node_size=1003)"
      ],
      "execution_count": null,
      "outputs": [
        {
          "output_type": "display_data",
          "data": {
            "image/png": "[encoded data removed]",
            "text/plain": [
              "<Figure size 432x288 with 1 Axes>"
            ]
          },
          "metadata": {}
        }
      ]
    },
    {
      "cell_type": "markdown",
      "metadata": {
        "id": "zJ_AHsqwFQLD"
      },
      "source": [
        "##Determinar o maior número de vias que é possível remover mantendo o grafo ligado."
      ]
    },
    {
      "cell_type": "markdown",
      "metadata": {
        "id": "1R60hROr5ATu"
      },
      "source": [
        "Assuma que dado um grafo $(V,E)$ e os nodos $s$ e $t$, $A$ é o conjunto de todos os caminhos (sem ciclos) entre $s$ e $t$, onde cada caminho é representado pelo conjunto dos arcos que lhe pertencem. \n",
        "\n",
        "$\\forall_{s\\in V}\\forall_{t\\in V} \\sum_{}A_{s,t}\\cdot d_{s,t} $\n",
        "\n",
        " $d_{e} == 0$ sse e é cortado\n",
        "\n",
        "Logo como o nosso objetivo é **minimizar o número de arestas que permanecem no grafo** para ele continuar ligado, ou seja, $\\sum_{e\\in E}d_{e} $ subtraindo as arestas totais do grafo com o minimo de arestas que permanecem para ele continuar ligado, resultando o maior numero de arestas que é possivel remover continuando o grafo a ser fortemente ligado.\n",
        "\n",
        "As nossas restrições vão ser:\n",
        "$\\forall_{a\\in A} \\sum_{e\\in a}d_{e} \\geq 1 $\n",
        "\n",
        "A função **disconnect_max_paths** devolve a lista de arestas a remover para que t deixe de ser acessível a partir de s. Usamos a função `all_simple_paths` do `networkx` para **determinar todos os caminhos sem ciclos entre dois vértices**.\n",
        "\n",
        "\n",
        "\n"
      ]
    },
    {
      "cell_type": "code",
      "metadata": {
        "id": "v3qXg2d-Mfc_"
      },
      "source": [
        "def arestas(p): \n",
        "    return [(p[i],p[i+1]) for i in range(len(p)-1)]\n",
        "\n",
        "def disconnect_max_paths(graph): \n",
        "    sol = pywraplp.Solver.CreateSolver('SCIP')\n",
        "    \n",
        "    d = {}\n",
        "    for e in graph.edges():\n",
        "        d[e] = sol.BoolVar(str(e))\n",
        "\n",
        "    for s in graph.nodes:\n",
        "      for t in graph.nodes:\n",
        "        x = {}\n",
        "        if s != t:\n",
        "          ps = list(nx.all_simple_paths(graph,s,t))\n",
        "          for i in range(len(ps)):\n",
        "            x[i] = sol.BoolVar(str(i))\n",
        "            for a in arestas(ps[i]):\n",
        "              sol.Add(d[a]>=x[i]) #1\n",
        "            sol.Add(sum(d[j] for j in arestas(ps[i]))<=x[i] + len(arestas(ps[i]))-1) #2\n",
        "          sol.Add(sum(x.values())>=1) #3\n",
        "        \n",
        "    sol.Minimize(sum(d.values()))\n",
        "\n",
        "    assert(sol.Solve() == pywraplp.Solver.OPTIMAL)\n",
        "    arestasrem = [e for e in graph.edges() if round(d[e].solution_value()) == 0] #arestas que se podem retirar\n",
        "\n",
        "    print(\"O maior número de vias que é possível remover mantendo o grafo ligado: \",len(arestasrem))\n",
        "    print(\"Arestas removiveis: \", arestasrem) "
      ],
      "execution_count": null,
      "outputs": []
    },
    {
      "cell_type": "markdown",
      "metadata": {
        "id": "ivBY59HSjs9Q"
      },
      "source": [
        "### Exemplos:"
      ]
    },
    {
      "cell_type": "markdown",
      "metadata": {
        "id": "q0E1c5N6kHBv"
      },
      "source": [
        "Exemplo com um grafo orientado ligado com **24** Nodos e **1** a **2** descendentes:"
      ]
    },
    {
      "cell_type": "code",
      "metadata": {
        "colab": {
          "base_uri": "https://localhost:8080/"
        },
        "id": "E6RVqHSEkC0f",
        "outputId": "753c4b09-3760-490e-9650-8b97b98ff3d8"
      },
      "source": [
        "N = 24 #nodos\n",
        "d = 2 #1..d descendentes\n",
        "\n",
        "grafo = gerar_grafo(N,d)\n",
        "\n",
        "while(not nx.is_strongly_connected(grafo)): #verificar que o grafo seja orientado ligado\n",
        "  grafo = gerar_grafo(N,d)\n",
        "\n",
        "\n",
        "disconnect_max_paths(grafo)"
      ],
      "execution_count": null,
      "outputs": [
        {
          "output_type": "stream",
          "name": "stdout",
          "text": [
            "O maior número de vias que é possível remover mantendo o grafo ligado:  11\n",
            "Arestas removiveis:  [(1, 22), (22, 24), (2, 23), (20, 2), (14, 19), (7, 21), (13, 21), (19, 2), (10, 11), (11, 6), (12, 23)]\n"
          ]
        }
      ]
    },
    {
      "cell_type": "markdown",
      "metadata": {
        "id": "aY895DGvjc2h"
      },
      "source": [
        "Exemplo com um grafo orientado ligado com **16** Nodos e **1** a **3** descendentes:"
      ]
    },
    {
      "cell_type": "code",
      "metadata": {
        "colab": {
          "base_uri": "https://localhost:8080/"
        },
        "id": "KYGZjzDjmJ9J",
        "outputId": "e28510ee-bb6a-4af7-e9d2-42a8c6843a85"
      },
      "source": [
        "N = 16 #nodos\n",
        "d = 3 #1..d descendentes\n",
        "\n",
        "grafo = gerar_grafo(N,d)\n",
        "\n",
        "while(not nx.is_strongly_connected(grafo)): #verificar que o grafo seja orientado ligado\n",
        "  grafo = gerar_grafo(N,d)\n",
        "\n",
        "\n",
        "disconnect_max_paths(grafo)"
      ],
      "execution_count": null,
      "outputs": [
        {
          "output_type": "stream",
          "name": "stdout",
          "text": [
            "O maior número de vias que é possível remover mantendo o grafo ligado:  13\n",
            "Arestas removiveis:  [(1, 16), (1, 5), (2, 7), (11, 6), (11, 1), (9, 14), (12, 9), (12, 15), (4, 2), (6, 4), (13, 16), (14, 1), (14, 11)]\n"
          ]
        }
      ]
    }
  ]
}
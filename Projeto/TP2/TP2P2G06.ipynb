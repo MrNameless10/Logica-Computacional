{
  "nbformat": 4,
  "nbformat_minor": 0,
  "metadata": {
    "colab": {
      "name": "TP2P2G06.ipynb",
      "provenance": [],
      "collapsed_sections": []
    },
    "kernelspec": {
      "name": "python3",
      "display_name": "Python 3"
    },
    "language_info": {
      "name": "python"
    }
  },
  "cells": [
    {
      "cell_type": "markdown",
      "metadata": {
        "id": "_9jUT_LDs_JX"
      },
      "source": [
        "# Trabalho 2\n",
        "Grupo 06\n",
        "- Tomás Vaz de Carvalho Campinho A91668\n",
        "- Miguel Ângelo Alves de Freitas A91635"
      ]
    },
    {
      "cell_type": "code",
      "metadata": {
        "colab": {
          "base_uri": "https://localhost:8080/"
        },
        "id": "axZ45DGsRZGo",
        "outputId": "32e72a39-6a8d-4f9f-cd2a-e1fecd1d3803"
      },
      "source": [
        "!pip install ortools"
      ],
      "execution_count": null,
      "outputs": [
        {
          "output_type": "stream",
          "name": "stdout",
          "text": [
            "Requirement already satisfied: ortools in /usr/local/lib/python3.7/dist-packages (9.1.9490)\n",
            "Requirement already satisfied: absl-py>=0.13 in /usr/local/lib/python3.7/dist-packages (from ortools) (1.0.0)\n",
            "Requirement already satisfied: protobuf>=3.18.0 in /usr/local/lib/python3.7/dist-packages (from ortools) (3.19.1)\n",
            "Requirement already satisfied: six in /usr/local/lib/python3.7/dist-packages (from absl-py>=0.13->ortools) (1.15.0)\n"
          ]
        }
      ]
    },
    {
      "cell_type": "code",
      "metadata": {
        "id": "7knZQWuaILNY"
      },
      "source": [
        "import networkx as nx\n",
        "import random\n",
        "from ortools.linear_solver import pywraplp"
      ],
      "execution_count": null,
      "outputs": []
    },
    {
      "cell_type": "markdown",
      "metadata": {
        "id": "BY1feYVTHV35"
      },
      "source": [
        "Considere-se um circuit Booleano $C$ com $n$ \"wires\" de \" input\" e um único \"wire\" de output.\n",
        "\n",
        "\n",
        "*   O circuito é descrito num bi-grafo com uma classe de nodos representando “gates” e a segunda classe representando “wires” . \n",
        "*   Cada nodo contém um campo val cujo conteúdo descreve a semântica desse nodo; para os “wires” o campo **val**  contém uma variável SCIP; para as “gates” o campo **val**  contém uma marca bo conjunto **and**, **or**,  **xor** e **not**,   que indica o tipo de “gate”.\n",
        "*   Com exceção de not , que é um operador unário, todas as restantes “gates” têm um número arbitrário de “inputs” e um único “output”.\n",
        "*   No grafo os arcos com origem numa determinada “gate”  têm destino nos “wires” que são “input” dessa “gate”. Cada “wire” que não é “input” é origem de um único arco que tem como destino a “gate” do qual esse “wire” é “output”.\n",
        "\n",
        "\n",
        "\n",
        "1.   Escreva um programa que, a partir do número $n$ de \"inputs\" e de um parâmetro positivo γ≪1 como argumentos, gere aleatoriamente circuitos com \"gates\" **or**,**and** e **not** em que o número de **and**'s é γ * (número total de nodos).\n",
        "2.   Escreva um programa Python que leia um circuito arbitrário descrito pelo bi-grafo anterior e formule as restrições (em Programação Inteira) que descrevem as várias “gates” do circuito.\n",
        "3.   Usando os dois programas anteriores e o sistema SCIP, \n",
        "        1. Escreva um programa que determine um vetor de “inputs”   $,x\\in\\ {0,1}^n$ ,aceite pelo circuito (i.e. o respetivo output é $1$).\n",
        "        2. Determine o vetor $x'\\neq x$ , também aceite pelo circuito, que está mais próximo de $x$. \n"
      ]
    },
    {
      "cell_type": "markdown",
      "metadata": {
        "id": "SE4gjsH-HctY"
      },
      "source": [
        "1.   Escreva um programa que, a partir do número $n$ de \"inputs\" e de um parâmetro positivo γ≪1 como argumentos, gere aleatoriamente circuitos com \"gates\" **or**,**and** e **not** em que o número de **and**'s é γ * (número total de nodos)."
      ]
    },
    {
      "cell_type": "code",
      "metadata": {
        "id": "trFZOSzkv7Ee"
      },
      "source": [
        "def geraInput(circuito,i,x,y,l):\n",
        "  nodo=random.randint(x,y)\n",
        "  while nodo==l:\n",
        "    nodo=random.randint(x,y)\n",
        "\n",
        "  circuito.add_edge(nodo,i)\n",
        "\n",
        "  return nodo\n",
        "\n",
        "def geraOutput(circuito,i,x,y,l):\n",
        "  nodo=random.randint(x,y)\n",
        "  while nodo in l:\n",
        "    nodo=random.randint(x,y)\n",
        "\n",
        "  l.append(nodo)\n",
        "  circuito.add_edge(i,nodo)\n",
        "\n",
        "  return nodo\n",
        "\n",
        "\n",
        "def gera_circuito(N,Y):\n",
        "    nGates = random.randint(N,N+2) #numero de gates total\n",
        "    nAnds=round(Y*N) #numero de gates 'and'\n",
        "\n",
        "    l=[]\n",
        "    circuito = nx.DiGraph() \n",
        "\n",
        "    for i in range(N): #gerar inputs\n",
        "      circuito.add_node(i,value='input')\n",
        "\n",
        "    for i in range(nGates): #gerar outputs\n",
        "      circuito.add_node(i+N,value='output') \n",
        "    \n",
        "    for i in range(nGates-nAnds):  #gerar gates ('not', 'or', 'xor')\n",
        "      tipogate = random.randint(1,3) # 1-not 2-or 3-xor\n",
        "      if tipogate==1:\n",
        "        circuito.add_node(i+N+nGates, value='not')\n",
        "        output=geraOutput(circuito,i+N+nGates,N,N+nGates-1,l)\n",
        "        input=geraInput(circuito,i+N+nGates,0,N+nGates-2,output)\n",
        "\n",
        "      elif tipogate==2: \n",
        "        circuito.add_node(i+N+nGates, value='or') \n",
        "        output=geraOutput(circuito,i+N+nGates,N,N+nGates-1,l)\n",
        "        input=geraInput(circuito,i+N+nGates,0,N+nGates-2,output)\n",
        "        input=geraInput(circuito,i+N+nGates,0,N+nGates-2,input)\n",
        "\n",
        "      elif tipogate==3:\n",
        "        circuito.add_node(i+N+nGates, value='xor')  \n",
        "        output=geraOutput(circuito,i+N+nGates,N,N+nGates-1,l)\n",
        "        input=geraInput(circuito,i+N+nGates,0,N+nGates-2,output)\n",
        "        input=geraInput(circuito,i+N+nGates,0,N+nGates-2,input)\n",
        "          \n",
        "\n",
        "    for i in range(nAnds): #gerar gates 'and'\n",
        "        circuito.add_node(i+N+nGates-nAnds, value='and')\n",
        "        output=geraOutput(circuito,i+N+nGates*2-nAnds,N,N+nGates-1,l)\n",
        "        input=geraInput(circuito,i+N+nGates*2-nAnds,0,N+nGates-2,output)\n",
        "        input=geraInput(circuito,i+N+nGates*2-nAnds,0,N+nGates-2,input)\n",
        "      \n",
        "    return circuito"
      ],
      "execution_count": null,
      "outputs": []
    },
    {
      "cell_type": "markdown",
      "metadata": {
        "id": "ytO-5qB-La91"
      },
      "source": [
        "#Definir restrições para o Solver(linguagem)."
      ]
    },
    {
      "cell_type": "markdown",
      "metadata": {
        "id": "Py0D04AgFYSl"
      },
      "source": [
        "O problema consiste em \n",
        "\n",
        "$$x_{n} == 1  \\quad \\mbox{se e só se} \\quad \\mbox{o nodo $n$ tem valor lógico $true$}$$\n",
        "\n",
        "\n",
        "Como  foi sendo indicado anteriormente, a descrição em LIA (“linear integer arithmetic”) de uma restrição construída com esta família de operadores é direta. No contexto do circuito o comportamento de uma gate é definido por ums restrição igualdade $y =\\,\\mathbf{op}(x_1,\\cdots,x_n)$ sendo $y$ o “wire utput”  e $\\,x_1,\\cdots,x_n)\\,$são os “wires” dos argumentos.\n",
        "\n",
        "\n",
        "Quando se usam restrições inteiras, e um sistema como o SCIP, para descrever uma restrição booleana\n",
        "$y =\\,\\mathbf{op}(x_1,\\cdots,x_n)$ é necessário proceder à conversão dos operadores booleanos em relações inteiras.\n",
        "\n",
        "O resultado final do circuito tem que ser igual **1** como referido a cima.\n",
        "\n",
        "\n",
        "# Vamos ter 4 tipos de retrições:\n",
        "\n",
        "1. Gate é do tipo \"AND\". Logo\n",
        "\n",
        "$$(\\sum_i x_i < y+n)      \\wedge      (x_i \\geq y)   ;    \\quad      \\forall i=1..n$$\n",
        "\n",
        "2. Gate é do tipo \"NOT\". logo\n",
        "$$y + x = 1$$\n",
        "\n",
        "3. Gate é do tipo \"OR\". logo\n",
        "$$(y \\leq \\sum_i\\,x_i\\quad)      \\wedge        x_i \\leq y\\ \\quad        \\forall i=1..n$$\n",
        "\n",
        "4. Gate é do tipo \"XOR\". \n",
        "\n",
        "​$$y + 2y' = \\sum_{i=1}^n$$\n",
        "\n",
        "$y'$ é uma nova variável  tal que $\\,0\\leq y' \\leq \\lfloor n/2\\rfloor$\n",
        "\n",
        "Com estas 4 restrições no solver vamos **maximizar** a soma dos inputs.\n",
        "\n",
        "\n"
      ]
    },
    {
      "cell_type": "code",
      "metadata": {
        "id": "4Ja0F6ATRnbJ"
      },
      "source": [
        "def resolver_circuito(graph, N):\n",
        "  \n",
        "    solver = pywraplp.Solver.CreateSolver('SCIP')\n",
        "    o = 0\n",
        "    for n in nx.to_dict_of_lists(graph):\n",
        "        if (nx.to_dict_of_lists(graph)[n]) == []:\n",
        "            o = n\n",
        "    x = {}\n",
        "    y = {}\n",
        "    for n in graph:\n",
        "        if (n != o):\n",
        "            if (graph.nodes[n]['value'] == 'input' or graph.nodes[n]['value'] == 'output'):\n",
        "                x[n] = solver.BoolVar(str(n))       \n",
        "        else:\n",
        "            x[n] = solver.BoolVar(str(n))\n",
        "            solver.Add(x[n] == 1)\n",
        "\n",
        "    for n in graph:\n",
        "        \n",
        "\n",
        "        if graph.nodes[n]['value'] == 'not':\n",
        "            s = list(graph.out_edges(n))[0]\n",
        "            t = list(graph.in_edges(n))\n",
        "            solver.Add(x[s[1]] + x[t[0][0]] == 1)  \n",
        "      \n",
        "        if graph.nodes[n]['value'] == 'or':\n",
        "            s = list(graph.out_edges(n))[0]\n",
        "            t = list(graph.in_edges(n))\n",
        "            solver.Add(x[s[1]] <= sum(x[sx] for sx, sy in t))\n",
        "            for sx, sy in t:\n",
        "                solver.Add(x[sx] <= x[s[1]])\n",
        "                \n",
        "        if graph.nodes[n]['value'] == 'and':\n",
        "            s = list(graph.out_edges(n))[0]\n",
        "            t = list(graph.in_edges(n))\n",
        "            solver.Add(sum(x[sx] for sx, sy in t) <= x[s[1]] + len(t) - 1)\n",
        "            for sx, sy in t:\n",
        "                solver.Add(x[sx] >= x[s[1]])\n",
        "\n",
        "        if graph.nodes[n]['value'] == 'xor':\n",
        "            s = list(graph.out_edges(n))[0]\n",
        "            t = list(graph.in_edges(n))\n",
        "            y[n] = solver.BoolVar(str(n))\n",
        "            solver.Add(0 <= y[n] <= len(t) / 2)\n",
        "            solver.Add(x[s[1]] + y[n] * 2 == sum(x[sx] for sx, xy in t))\n",
        "\n",
        "    solver.Maximize(sum(x[i] for i in range(N)))\n",
        "    assert(solver.Solve()==pywraplp.Solver.OPTIMAL)\n",
        "\n",
        "    resultado=[graph.nodes[i]['value'] for i in range(N)]\n",
        "\n",
        "    if solver.NextSolution():\n",
        "      print(\"Mais próximo: \"+str([round(x[i].solution_value()) for i in range(N)]) )\n",
        "    else:\n",
        "      print(\"Não foi encontrado outro vetor\")\n"
      ],
      "execution_count": null,
      "outputs": []
    },
    {
      "cell_type": "markdown",
      "metadata": {
        "id": "Uhl9UWj_twQe"
      },
      "source": [
        "Exemplos:"
      ]
    },
    {
      "cell_type": "code",
      "metadata": {
        "colab": {
          "base_uri": "https://localhost:8080/",
          "height": 336
        },
        "id": "IaTxxmS6F2HR",
        "outputId": "db68cd7a-68b0-44b9-eaa4-889cb6478e23"
      },
      "source": [
        "#número de inputs\n",
        "N=3\n",
        "Y=0.1\n",
        "\n",
        "circuito = gera_circuito(N,Y)\n",
        "resolver_circuito(circuito, N)    \n",
        "\n",
        "nx.draw(circuito, with_labels=True, labels = {x:(circuito.nodes[x]['value']) for x in circuito}, node_size=1003)"
      ],
      "execution_count": null,
      "outputs": [
        {
          "output_type": "stream",
          "name": "stdout",
          "text": [
            "Mais próximo: [1, 0, 0]\n"
          ]
        },
        {
          "output_type": "display_data",
          "data": {
            "image/png": "[encoded data removed]",
            "text/plain": [
              "<Figure size 432x288 with 1 Axes>"
            ]
          },
          "metadata": {}
        }
      ]
    },
    {
      "cell_type": "code",
      "metadata": {
        "colab": {
          "base_uri": "https://localhost:8080/",
          "height": 336
        },
        "id": "fH87dZiaR5HY",
        "outputId": "b59457ca-a020-41b3-9469-b82a82d0042f"
      },
      "source": [
        "#número de inputs\n",
        "N=2\n",
        "Y=0.2\n",
        "\n",
        "circuito = gera_circuito(N,Y)\n",
        "resolver_circuito(circuito, N)    \n",
        "\n",
        "nx.draw(circuito, with_labels=True, labels = {x:(circuito.nodes[x]['value']) for x in circuito}, node_size=1003) "
      ],
      "execution_count": null,
      "outputs": [
        {
          "output_type": "stream",
          "name": "stdout",
          "text": [
            "Mais próximo: [1, 0]\n"
          ]
        },
        {
          "output_type": "display_data",
          "data": {
            "image/png": "[encoded data removed]",
            "text/plain": [
              "<Figure size 432x288 with 1 Axes>"
            ]
          },
          "metadata": {}
        }
      ]
    }
  ]
}